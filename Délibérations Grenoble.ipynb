{
 "cells": [
  {
   "cell_type": "markdown",
   "metadata": {},
   "source": [
    "# I. Opérations basiques, premier jeu de donnée."
   ]
  },
  {
   "cell_type": "markdown",
   "metadata": {},
   "source": [
    "Pour récupérer un fichier CSV directement sans le télécharger, on peut aller le chercher sur un site open data et copier le lien, puis le coller dans le notebook.\n",
    "Commençons par un fichier recensant tous les établissements français à l'étranger."
   ]
  },
  {
   "cell_type": "code",
   "execution_count": 53,
   "metadata": {},
   "outputs": [],
   "source": [
    "import pandas as pd\n",
    "import io\n",
    "import requests\n",
    "\n",
    "url2 =\"http://www.nosdonnees.fr/dataset/97d435c1-3e82-469e-a28e-7e74c67b5fa7/resource/b98858d6-db31-4816-bbfb-a4ea37514a28/download/ifmonde.csv\"\n",
    "s2=requests.get(url2).content\n",
    "file2=pd.read_csv(io.StringIO(s2.decode('utf-8')))"
   ]
  },
  {
   "cell_type": "code",
   "execution_count": 54,
   "metadata": {},
   "outputs": [
    {
     "data": {
      "text/html": [
       "<div>\n",
       "<style scoped>\n",
       "    .dataframe tbody tr th:only-of-type {\n",
       "        vertical-align: middle;\n",
       "    }\n",
       "\n",
       "    .dataframe tbody tr th {\n",
       "        vertical-align: top;\n",
       "    }\n",
       "\n",
       "    .dataframe thead th {\n",
       "        text-align: right;\n",
       "    }\n",
       "</style>\n",
       "<table border=\"1\" class=\"dataframe\">\n",
       "  <thead>\n",
       "    <tr style=\"text-align: right;\">\n",
       "      <th></th>\n",
       "      <th>ID PAYS</th>\n",
       "      <th>ID LIEU</th>\n",
       "      <th>Pays</th>\n",
       "      <th>Zone géographique</th>\n",
       "      <th>Longitude</th>\n",
       "    </tr>\n",
       "  </thead>\n",
       "  <tbody>\n",
       "    <tr>\n",
       "      <th>count</th>\n",
       "      <td>206.000000</td>\n",
       "      <td>206.000000</td>\n",
       "      <td>203.000000</td>\n",
       "      <td>203.000000</td>\n",
       "      <td>183.000000</td>\n",
       "    </tr>\n",
       "    <tr>\n",
       "      <th>mean</th>\n",
       "      <td>45.330097</td>\n",
       "      <td>103.500000</td>\n",
       "      <td>44.965517</td>\n",
       "      <td>3.364532</td>\n",
       "      <td>26.642223</td>\n",
       "    </tr>\n",
       "    <tr>\n",
       "      <th>std</th>\n",
       "      <td>27.254496</td>\n",
       "      <td>59.611241</td>\n",
       "      <td>27.327203</td>\n",
       "      <td>1.429922</td>\n",
       "      <td>42.766362</td>\n",
       "    </tr>\n",
       "    <tr>\n",
       "      <th>min</th>\n",
       "      <td>1.000000</td>\n",
       "      <td>1.000000</td>\n",
       "      <td>1.000000</td>\n",
       "      <td>1.000000</td>\n",
       "      <td>-99.199451</td>\n",
       "    </tr>\n",
       "    <tr>\n",
       "      <th>25%</th>\n",
       "      <td>19.250000</td>\n",
       "      <td>52.250000</td>\n",
       "      <td>19.000000</td>\n",
       "      <td>2.500000</td>\n",
       "      <td>6.860772</td>\n",
       "    </tr>\n",
       "    <tr>\n",
       "      <th>50%</th>\n",
       "      <td>48.000000</td>\n",
       "      <td>103.500000</td>\n",
       "      <td>48.000000</td>\n",
       "      <td>4.000000</td>\n",
       "      <td>18.079523</td>\n",
       "    </tr>\n",
       "    <tr>\n",
       "      <th>75%</th>\n",
       "      <td>68.000000</td>\n",
       "      <td>154.750000</td>\n",
       "      <td>67.500000</td>\n",
       "      <td>4.000000</td>\n",
       "      <td>35.729404</td>\n",
       "    </tr>\n",
       "    <tr>\n",
       "      <th>max</th>\n",
       "      <td>93.000000</td>\n",
       "      <td>206.000000</td>\n",
       "      <td>93.000000</td>\n",
       "      <td>7.000000</td>\n",
       "      <td>139.690817</td>\n",
       "    </tr>\n",
       "  </tbody>\n",
       "</table>\n",
       "</div>"
      ],
      "text/plain": [
       "          ID PAYS     ID LIEU        Pays  Zone géographique   Longitude\n",
       "count  206.000000  206.000000  203.000000         203.000000  183.000000\n",
       "mean    45.330097  103.500000   44.965517           3.364532   26.642223\n",
       "std     27.254496   59.611241   27.327203           1.429922   42.766362\n",
       "min      1.000000    1.000000    1.000000           1.000000  -99.199451\n",
       "25%     19.250000   52.250000   19.000000           2.500000    6.860772\n",
       "50%     48.000000  103.500000   48.000000           4.000000   18.079523\n",
       "75%     68.000000  154.750000   67.500000           4.000000   35.729404\n",
       "max     93.000000  206.000000   93.000000           7.000000  139.690817"
      ]
     },
     "execution_count": 54,
     "metadata": {},
     "output_type": "execute_result"
    }
   ],
   "source": [
    "file2.describe()"
   ]
  },
  {
   "cell_type": "code",
   "execution_count": 55,
   "metadata": {},
   "outputs": [
    {
     "data": {
      "text/html": [
       "<div>\n",
       "<style scoped>\n",
       "    .dataframe tbody tr th:only-of-type {\n",
       "        vertical-align: middle;\n",
       "    }\n",
       "\n",
       "    .dataframe tbody tr th {\n",
       "        vertical-align: top;\n",
       "    }\n",
       "\n",
       "    .dataframe thead th {\n",
       "        text-align: right;\n",
       "    }\n",
       "</style>\n",
       "<table border=\"1\" class=\"dataframe\">\n",
       "  <thead>\n",
       "    <tr style=\"text-align: right;\">\n",
       "      <th></th>\n",
       "      <th>ID PAYS</th>\n",
       "      <th>ID LIEU</th>\n",
       "      <th>Titre</th>\n",
       "      <th>Pays</th>\n",
       "      <th>Zone géographique</th>\n",
       "      <th>Adresse</th>\n",
       "      <th>Adresse Suite</th>\n",
       "      <th>Adresse (Code postal)</th>\n",
       "      <th>Ville</th>\n",
       "      <th>Pays</th>\n",
       "      <th>...</th>\n",
       "      <th>Titre site web 1</th>\n",
       "      <th>Url site web 1</th>\n",
       "      <th>Titre site web 2</th>\n",
       "      <th>Url site web 2</th>\n",
       "      <th>Titre site web 3</th>\n",
       "      <th>Url site web 3</th>\n",
       "      <th>Titre site web 4</th>\n",
       "      <th>Url site web 4</th>\n",
       "      <th>Champ complément d'infos</th>\n",
       "      <th>mail Direction</th>\n",
       "    </tr>\n",
       "  </thead>\n",
       "  <tbody>\n",
       "    <tr>\n",
       "      <th>0</th>\n",
       "      <td>1</td>\n",
       "      <td>1</td>\n",
       "      <td>Institut français</td>\n",
       "      <td>1.0</td>\n",
       "      <td>5.0</td>\n",
       "      <td>Lycée Esteqlal</td>\n",
       "      <td>NaN</td>\n",
       "      <td>NaN</td>\n",
       "      <td>Kaboul</td>\n",
       "      <td>Afghanistan</td>\n",
       "      <td>...</td>\n",
       "      <td>site internet</td>\n",
       "      <td>NaN</td>\n",
       "      <td>facebook</td>\n",
       "      <td>http://www.facebook.com/pages/Institut-Fran%C3...</td>\n",
       "      <td>NaN</td>\n",
       "      <td>NaN</td>\n",
       "      <td>NaN</td>\n",
       "      <td>NaN</td>\n",
       "      <td>NaN</td>\n",
       "      <td>NaN</td>\n",
       "    </tr>\n",
       "    <tr>\n",
       "      <th>1</th>\n",
       "      <td>2</td>\n",
       "      <td>2</td>\n",
       "      <td>Institut français Afrique du Sud</td>\n",
       "      <td>2.0</td>\n",
       "      <td>1.0</td>\n",
       "      <td>Cnr Margaret Mcingana Street &amp; Gwigwi Mrwebi,</td>\n",
       "      <td>Newtown Cultural Precinct P.O Box 542</td>\n",
       "      <td>Newtown 2113</td>\n",
       "      <td>Johannesburg</td>\n",
       "      <td>Afrique du Sud</td>\n",
       "      <td>...</td>\n",
       "      <td>site internet</td>\n",
       "      <td>www.ifas.org.za</td>\n",
       "      <td>NaN</td>\n",
       "      <td>NaN</td>\n",
       "      <td>NaN</td>\n",
       "      <td>NaN</td>\n",
       "      <td>NaN</td>\n",
       "      <td>NaN</td>\n",
       "      <td>NaN</td>\n",
       "      <td>NaN</td>\n",
       "    </tr>\n",
       "    <tr>\n",
       "      <th>2</th>\n",
       "      <td>3</td>\n",
       "      <td>3</td>\n",
       "      <td>Centre Culturel Français d'Alger</td>\n",
       "      <td>3.0</td>\n",
       "      <td>4.0</td>\n",
       "      <td>7 rue Hassani Issad</td>\n",
       "      <td>NaN</td>\n",
       "      <td>16000</td>\n",
       "      <td>Alger</td>\n",
       "      <td>Algérie</td>\n",
       "      <td>...</td>\n",
       "      <td>site internet</td>\n",
       "      <td>www.ccf-dz.com</td>\n",
       "      <td>NaN</td>\n",
       "      <td>NaN</td>\n",
       "      <td>NaN</td>\n",
       "      <td>NaN</td>\n",
       "      <td>NaN</td>\n",
       "      <td>NaN</td>\n",
       "      <td>NaN</td>\n",
       "      <td>NaN</td>\n",
       "    </tr>\n",
       "    <tr>\n",
       "      <th>3</th>\n",
       "      <td>3</td>\n",
       "      <td>4</td>\n",
       "      <td>Centre Culturel Français d'Annaba</td>\n",
       "      <td>3.0</td>\n",
       "      <td>4.0</td>\n",
       "      <td>8 boulevard du 1er Novembre 1954</td>\n",
       "      <td>NaN</td>\n",
       "      <td>23000</td>\n",
       "      <td>Annaba</td>\n",
       "      <td>Algérie</td>\n",
       "      <td>...</td>\n",
       "      <td>site internet</td>\n",
       "      <td>http://www.ccfannaba.org/</td>\n",
       "      <td>NaN</td>\n",
       "      <td>NaN</td>\n",
       "      <td>NaN</td>\n",
       "      <td>NaN</td>\n",
       "      <td>NaN</td>\n",
       "      <td>NaN</td>\n",
       "      <td>NaN</td>\n",
       "      <td>NaN</td>\n",
       "    </tr>\n",
       "    <tr>\n",
       "      <th>4</th>\n",
       "      <td>3</td>\n",
       "      <td>5</td>\n",
       "      <td>Centre Culturel Français de Constantine</td>\n",
       "      <td>3.0</td>\n",
       "      <td>4.0</td>\n",
       "      <td>1 boulevard de l'Indépendance</td>\n",
       "      <td>NaN</td>\n",
       "      <td>25000</td>\n",
       "      <td>Constantine</td>\n",
       "      <td>Algérie</td>\n",
       "      <td>...</td>\n",
       "      <td>site internet</td>\n",
       "      <td>www.ccf-constantine.org</td>\n",
       "      <td>NaN</td>\n",
       "      <td>NaN</td>\n",
       "      <td>NaN</td>\n",
       "      <td>NaN</td>\n",
       "      <td>NaN</td>\n",
       "      <td>NaN</td>\n",
       "      <td>NaN</td>\n",
       "      <td>NaN</td>\n",
       "    </tr>\n",
       "  </tbody>\n",
       "</table>\n",
       "<p>5 rows × 25 columns</p>\n",
       "</div>"
      ],
      "text/plain": [
       "   ID PAYS  ID LIEU                                    Titre  Pays  \\\n",
       "0        1        1                        Institut français   1.0   \n",
       "1        2        2         Institut français Afrique du Sud   2.0   \n",
       "2        3        3         Centre Culturel Français d'Alger   3.0   \n",
       "3        3        4        Centre Culturel Français d'Annaba   3.0   \n",
       "4        3        5  Centre Culturel Français de Constantine   3.0   \n",
       "\n",
       "   Zone géographique                                         Adresse  \\\n",
       "0                5.0                                  Lycée Esteqlal   \n",
       "1                1.0  Cnr Margaret Mcingana Street & Gwigwi Mrwebi,    \n",
       "2                4.0                             7 rue Hassani Issad   \n",
       "3                4.0                8 boulevard du 1er Novembre 1954   \n",
       "4                4.0                  1 boulevard de l'Indépendance    \n",
       "\n",
       "                           Adresse Suite Adresse (Code postal)         Ville  \\\n",
       "0                                    NaN                   NaN        Kaboul   \n",
       "1  Newtown Cultural Precinct P.O Box 542          Newtown 2113  Johannesburg   \n",
       "2                                    NaN                 16000         Alger   \n",
       "3                                    NaN                 23000        Annaba   \n",
       "4                                    NaN                 25000   Constantine   \n",
       "\n",
       "            Pays   ... Titre site web 1             Url site web 1  \\\n",
       "0     Afghanistan  ...    site internet                        NaN   \n",
       "1  Afrique du Sud  ...    site internet            www.ifas.org.za   \n",
       "2         Algérie  ...    site internet             www.ccf-dz.com   \n",
       "3         Algérie  ...    site internet  http://www.ccfannaba.org/   \n",
       "4         Algérie  ...    site internet    www.ccf-constantine.org   \n",
       "\n",
       "  Titre site web 2                                     Url site web 2  \\\n",
       "0        facebook   http://www.facebook.com/pages/Institut-Fran%C3...   \n",
       "1              NaN                                                NaN   \n",
       "2              NaN                                                NaN   \n",
       "3              NaN                                                NaN   \n",
       "4              NaN                                                NaN   \n",
       "\n",
       "   Titre site web 3 Url site web 3 Titre site web 4 Url site web 4  \\\n",
       "0               NaN            NaN              NaN            NaN   \n",
       "1               NaN            NaN              NaN            NaN   \n",
       "2               NaN            NaN              NaN            NaN   \n",
       "3               NaN            NaN              NaN            NaN   \n",
       "4               NaN            NaN              NaN            NaN   \n",
       "\n",
       "  Champ complément d'infos mail Direction  \n",
       "0                      NaN            NaN  \n",
       "1                      NaN            NaN  \n",
       "2                      NaN            NaN  \n",
       "3                      NaN            NaN  \n",
       "4                      NaN            NaN  \n",
       "\n",
       "[5 rows x 25 columns]"
      ]
     },
     "execution_count": 55,
     "metadata": {},
     "output_type": "execute_result"
    }
   ],
   "source": [
    "file2.head()"
   ]
  },
  {
   "cell_type": "code",
   "execution_count": 56,
   "metadata": {},
   "outputs": [
    {
     "data": {
      "text/plain": [
       "Index(['ID PAYS', 'ID LIEU', 'Titre', 'Pays', 'Zone géographique', 'Adresse',\n",
       "       'Adresse Suite', 'Adresse (Code postal)', 'Ville', 'Pays ', 'Téléphone',\n",
       "       'Fax', 'Contact / mail', 'Latitude', 'Longitude', 'Titre site web 1',\n",
       "       'Url site web 1', 'Titre site web 2', 'Url site web 2',\n",
       "       'Titre site web 3', 'Url site web 3', 'Titre site web 4',\n",
       "       'Url site web 4', 'Champ complément d'infos', 'mail Direction'],\n",
       "      dtype='object')"
      ]
     },
     "execution_count": 56,
     "metadata": {},
     "output_type": "execute_result"
    }
   ],
   "source": [
    "file2.columns"
   ]
  },
  {
   "cell_type": "code",
   "execution_count": 57,
   "metadata": {},
   "outputs": [
    {
     "data": {
      "text/plain": [
       "206"
      ]
     },
     "execution_count": 57,
     "metadata": {},
     "output_type": "execute_result"
    }
   ],
   "source": [
    "len(file2)"
   ]
  },
  {
   "cell_type": "code",
   "execution_count": 61,
   "metadata": {},
   "outputs": [
    {
     "name": "stdout",
     "output_type": "stream",
     "text": [
      "Counter({4: 11, 54: 9, 48: 8, 61: 8, 3: 6, 19: 6, 38: 5, 44: 5, 50: 5, 10: 4, 30: 4, 31: 4, 47: 4, 49: 4, 70: 4, 73: 4, 89: 4, 91: 4, 12: 3, 15: 3, 78: 3, 83: 3, 87: 3, 6: 2, 8: 2, 11: 2, 13: 2, 14: 2, 16: 2, 22: 2, 23: 2, 37: 2, 45: 2, 52: 2, 55: 2, 67: 2, 68: 2, 69: 2, 74: 2, 75: 2, 77: 2, 79: 2, 81: 2, 90: 2, 92: 2, 1: 1, 2: 1, 5: 1, 7: 1, 9: 1, 17: 1, 18: 1, 20: 1, 21: 1, 24: 1, 25: 1, 26: 1, 27: 1, 28: 1, 29: 1, 32: 1, 33: 1, 34: 1, 35: 1, 36: 1, 39: 1, 40: 1, 41: 1, 42: 1, 43: 1, 46: 1, 51: 1, 53: 1, 56: 1, 57: 1, 58: 1, 59: 1, 60: 1, 62: 1, 63: 1, 64: 1, 65: 1, 66: 1, 71: 1, 72: 1, 76: 1, 80: 1, 82: 1, 84: 1, 85: 1, 86: 1, 88: 1, 93: 1}) Nombre total de pays :  93\n"
     ]
    }
   ],
   "source": [
    "from collections import Counter\n",
    "nb_country = Counter(file2['ID PAYS'])\n",
    "print(nb_country, \"Nombre total de pays : \", len(nb_country))\n"
   ]
  },
  {
   "cell_type": "markdown",
   "metadata": {},
   "source": [
    "#  II. VILLE DE GRENOBLE."
   ]
  },
  {
   "cell_type": "markdown",
   "metadata": {},
   "source": [
    "Changement de données : votes de la ville de Grenoble en 2016."
   ]
  },
  {
   "cell_type": "code",
   "execution_count": 42,
   "metadata": {},
   "outputs": [],
   "source": [
    "url_grenoble = \"http://www.nosdonnees.fr/dataset/7bdd6059-4189-4188-b3e3-0dd070a3f025/resource/edf2217b-f56b-4bc9-977d-5163b4a69706/download/tableaufevrier2016.csv\"\n",
    "req=requests.get(url_grenoble).content\n",
    "grenoble=pd.read_csv(io.StringIO(req.decode('utf-8')))"
   ]
  },
  {
   "cell_type": "markdown",
   "metadata": {},
   "source": [
    "##  1. Nettoyage des données"
   ]
  },
  {
   "cell_type": "code",
   "execution_count": 43,
   "metadata": {},
   "outputs": [
    {
     "data": {
      "text/plain": [
       "Index(['Unnamed: 0', 'Unnamed: 1', 'Unnamed: 2', 'Unnamed: 3', 'Unnamed: 4',\n",
       "       'Conseil municipal de Grenoble le 29 février 2016', 'Unnamed: 6',\n",
       "       'Unnamed: 7', 'Unnamed: 8', 'Unnamed: 9', 'Unnamed: 10', 'Unnamed: 11',\n",
       "       'Unnamed: 12', 'POUR', 'Unnamed: 14', 'Unnamed: 15', 'Unnamed: 16',\n",
       "       'CONTRE', 'Unnamed: 18', 'Unnamed: 19', 'Unnamed: 20', 'ABSTENTION',\n",
       "       'Unnamed: 22', 'Unnamed: 23', 'Unnamed: 24', 'Non vote', 'Unnamed: 26',\n",
       "       'Unnamed: 27', 'Unnamed: 28', 'Hors salle', 'Unnamed: 30',\n",
       "       'Unnamed: 31', 'Unnamed: 32'],\n",
       "      dtype='object')"
      ]
     },
     "execution_count": 43,
     "metadata": {},
     "output_type": "execute_result"
    }
   ],
   "source": [
    "grenoble.columns"
   ]
  },
  {
   "cell_type": "code",
   "execution_count": 44,
   "metadata": {},
   "outputs": [
    {
     "data": {
      "text/html": [
       "<div>\n",
       "<style scoped>\n",
       "    .dataframe tbody tr th:only-of-type {\n",
       "        vertical-align: middle;\n",
       "    }\n",
       "\n",
       "    .dataframe tbody tr th {\n",
       "        vertical-align: top;\n",
       "    }\n",
       "\n",
       "    .dataframe thead th {\n",
       "        text-align: right;\n",
       "    }\n",
       "</style>\n",
       "<table border=\"1\" class=\"dataframe\">\n",
       "  <thead>\n",
       "    <tr style=\"text-align: right;\">\n",
       "      <th></th>\n",
       "      <th>Unnamed: 0</th>\n",
       "      <th>Unnamed: 1</th>\n",
       "      <th>Unnamed: 2</th>\n",
       "      <th>Unnamed: 3</th>\n",
       "      <th>Unnamed: 4</th>\n",
       "      <th>Conseil municipal de Grenoble le 29 février 2016</th>\n",
       "      <th>Unnamed: 6</th>\n",
       "      <th>Unnamed: 7</th>\n",
       "      <th>Unnamed: 8</th>\n",
       "      <th>Unnamed: 9</th>\n",
       "      <th>...</th>\n",
       "      <th>Unnamed: 23</th>\n",
       "      <th>Unnamed: 24</th>\n",
       "      <th>Non vote</th>\n",
       "      <th>Unnamed: 26</th>\n",
       "      <th>Unnamed: 27</th>\n",
       "      <th>Unnamed: 28</th>\n",
       "      <th>Hors salle</th>\n",
       "      <th>Unnamed: 30</th>\n",
       "      <th>Unnamed: 31</th>\n",
       "      <th>Unnamed: 32</th>\n",
       "    </tr>\n",
       "  </thead>\n",
       "  <tbody>\n",
       "    <tr>\n",
       "      <th>0</th>\n",
       "      <td>Mois</td>\n",
       "      <td>N°</td>\n",
       "      <td>1° délib</td>\n",
       "      <td>Lettre</td>\n",
       "      <td>ss CODE</td>\n",
       "      <td>Libellé de la délibération</td>\n",
       "      <td>Vote secret</td>\n",
       "      <td>Nb am.</td>\n",
       "      <td>Amande\\nMent</td>\n",
       "      <td>Unanimité</td>\n",
       "      <td>...</td>\n",
       "      <td>LR-UDI abst</td>\n",
       "      <td>FN abst</td>\n",
       "      <td>RCGE non  vote</td>\n",
       "      <td>PS non vote</td>\n",
       "      <td>LR-UDI non vote</td>\n",
       "      <td>FN non vote</td>\n",
       "      <td>RCGE hors salle</td>\n",
       "      <td>PS hors salle</td>\n",
       "      <td>LR-UDI hors salle</td>\n",
       "      <td>FN hors salle</td>\n",
       "    </tr>\n",
       "    <tr>\n",
       "      <th>1</th>\n",
       "      <td>2016-02-29</td>\n",
       "      <td>2</td>\n",
       "      <td>X</td>\n",
       "      <td>B002</td>\n",
       "      <td>ACTION SOCIALE</td>\n",
       "      <td>DELIBERATION N° 2 - (B 002) - ACTION SOCIALE -...</td>\n",
       "      <td>NaN</td>\n",
       "      <td>NaN</td>\n",
       "      <td>NaN</td>\n",
       "      <td>x</td>\n",
       "      <td>...</td>\n",
       "      <td>NaN</td>\n",
       "      <td>NaN</td>\n",
       "      <td>NaN</td>\n",
       "      <td>NaN</td>\n",
       "      <td>NaN</td>\n",
       "      <td>NaN</td>\n",
       "      <td>NaN</td>\n",
       "      <td>NaN</td>\n",
       "      <td>NaN</td>\n",
       "      <td>NaN</td>\n",
       "    </tr>\n",
       "    <tr>\n",
       "      <th>2</th>\n",
       "      <td>2016-02-29</td>\n",
       "      <td>3</td>\n",
       "      <td>NaN</td>\n",
       "      <td>E007</td>\n",
       "      <td>ADMINISTRATION GENERALE</td>\n",
       "      <td>DELIBERATION N° 3 - (E 007) - ADMINISTRATION G...</td>\n",
       "      <td>NaN</td>\n",
       "      <td>NaN</td>\n",
       "      <td>NaN</td>\n",
       "      <td>NaN</td>\n",
       "      <td>...</td>\n",
       "      <td>NaN</td>\n",
       "      <td>NaN</td>\n",
       "      <td>NaN</td>\n",
       "      <td>NaN</td>\n",
       "      <td>NaN</td>\n",
       "      <td>NaN</td>\n",
       "      <td>NaN</td>\n",
       "      <td>NaN</td>\n",
       "      <td>NaN</td>\n",
       "      <td>NaN</td>\n",
       "    </tr>\n",
       "    <tr>\n",
       "      <th>3</th>\n",
       "      <td>2016-02-29</td>\n",
       "      <td>4,1</td>\n",
       "      <td>NaN</td>\n",
       "      <td>A001</td>\n",
       "      <td>VOIES PUBLIQUES</td>\n",
       "      <td>DELIBERATION N° 4 - (A 001) - VOIES PUBLIQUES ...</td>\n",
       "      <td>NaN</td>\n",
       "      <td>NaN</td>\n",
       "      <td>NaN</td>\n",
       "      <td>NaN</td>\n",
       "      <td>...</td>\n",
       "      <td>NaN</td>\n",
       "      <td>NaN</td>\n",
       "      <td>1</td>\n",
       "      <td>NaN</td>\n",
       "      <td>NaN</td>\n",
       "      <td>NaN</td>\n",
       "      <td>NaN</td>\n",
       "      <td>NaN</td>\n",
       "      <td>NaN</td>\n",
       "      <td>NaN</td>\n",
       "    </tr>\n",
       "    <tr>\n",
       "      <th>4</th>\n",
       "      <td>2016-02-29</td>\n",
       "      <td>4,2</td>\n",
       "      <td>NaN</td>\n",
       "      <td>A001</td>\n",
       "      <td>VOIES PUBLIQUES</td>\n",
       "      <td>DELIBERATION N° 4 - (A 001) - VOIES PUBLIQUES ...</td>\n",
       "      <td>NaN</td>\n",
       "      <td>NaN</td>\n",
       "      <td>NaN</td>\n",
       "      <td>NaN</td>\n",
       "      <td>...</td>\n",
       "      <td>NaN</td>\n",
       "      <td>NaN</td>\n",
       "      <td>NaN</td>\n",
       "      <td>NaN</td>\n",
       "      <td>NaN</td>\n",
       "      <td>2</td>\n",
       "      <td>NaN</td>\n",
       "      <td>NaN</td>\n",
       "      <td>NaN</td>\n",
       "      <td>NaN</td>\n",
       "    </tr>\n",
       "  </tbody>\n",
       "</table>\n",
       "<p>5 rows × 33 columns</p>\n",
       "</div>"
      ],
      "text/plain": [
       "   Unnamed: 0 Unnamed: 1 Unnamed: 2 Unnamed: 3               Unnamed: 4  \\\n",
       "0        Mois         N°   1° délib     Lettre                  ss CODE   \n",
       "1  2016-02-29          2          X       B002           ACTION SOCIALE   \n",
       "2  2016-02-29          3        NaN       E007  ADMINISTRATION GENERALE   \n",
       "3  2016-02-29        4,1        NaN       A001          VOIES PUBLIQUES   \n",
       "4  2016-02-29        4,2        NaN       A001          VOIES PUBLIQUES   \n",
       "\n",
       "    Conseil municipal de Grenoble le 29 février 2016   Unnamed: 6 Unnamed: 7  \\\n",
       "0                         Libellé de la délibération  Vote secret     Nb am.   \n",
       "1  DELIBERATION N° 2 - (B 002) - ACTION SOCIALE -...          NaN        NaN   \n",
       "2  DELIBERATION N° 3 - (E 007) - ADMINISTRATION G...          NaN        NaN   \n",
       "3  DELIBERATION N° 4 - (A 001) - VOIES PUBLIQUES ...          NaN        NaN   \n",
       "4  DELIBERATION N° 4 - (A 001) - VOIES PUBLIQUES ...          NaN        NaN   \n",
       "\n",
       "     Unnamed: 8 Unnamed: 9  ...  Unnamed: 23 Unnamed: 24        Non vote  \\\n",
       "0  Amande\\nMent  Unanimité  ...  LR-UDI abst     FN abst  RCGE non  vote   \n",
       "1           NaN          x  ...          NaN         NaN             NaN   \n",
       "2           NaN        NaN  ...          NaN         NaN             NaN   \n",
       "3           NaN        NaN  ...          NaN         NaN               1   \n",
       "4           NaN        NaN  ...          NaN         NaN             NaN   \n",
       "\n",
       "   Unnamed: 26      Unnamed: 27  Unnamed: 28       Hors salle    Unnamed: 30  \\\n",
       "0  PS non vote  LR-UDI non vote  FN non vote  RCGE hors salle  PS hors salle   \n",
       "1          NaN              NaN          NaN              NaN            NaN   \n",
       "2          NaN              NaN          NaN              NaN            NaN   \n",
       "3          NaN              NaN          NaN              NaN            NaN   \n",
       "4          NaN              NaN            2              NaN            NaN   \n",
       "\n",
       "         Unnamed: 31    Unnamed: 32  \n",
       "0  LR-UDI hors salle  FN hors salle  \n",
       "1                NaN            NaN  \n",
       "2                NaN            NaN  \n",
       "3                NaN            NaN  \n",
       "4                NaN            NaN  \n",
       "\n",
       "[5 rows x 33 columns]"
      ]
     },
     "execution_count": 44,
     "metadata": {},
     "output_type": "execute_result"
    }
   ],
   "source": [
    "grenoble.head()"
   ]
  },
  {
   "cell_type": "markdown",
   "metadata": {},
   "source": [
    "La première ligne est mauvaise (c'est le titre général du fichier) et ne nous donne pas les noms des colonnes, alors on la supprime à l'aide de la fonction header."
   ]
  },
  {
   "cell_type": "code",
   "execution_count": 62,
   "metadata": {},
   "outputs": [],
   "source": [
    "grenoble=pd.read_csv(io.StringIO(req.decode('utf-8')), header = 1)"
   ]
  },
  {
   "cell_type": "code",
   "execution_count": 172,
   "metadata": {},
   "outputs": [
    {
     "data": {
      "text/html": [
       "<div>\n",
       "<style scoped>\n",
       "    .dataframe tbody tr th:only-of-type {\n",
       "        vertical-align: middle;\n",
       "    }\n",
       "\n",
       "    .dataframe tbody tr th {\n",
       "        vertical-align: top;\n",
       "    }\n",
       "\n",
       "    .dataframe thead th {\n",
       "        text-align: right;\n",
       "    }\n",
       "</style>\n",
       "<table border=\"1\" class=\"dataframe\">\n",
       "  <thead>\n",
       "    <tr style=\"text-align: right;\">\n",
       "      <th></th>\n",
       "      <th>Mois</th>\n",
       "      <th>N°</th>\n",
       "      <th>1° délib</th>\n",
       "      <th>Lettre</th>\n",
       "      <th>ss CODE</th>\n",
       "      <th>Libellé de la délibération</th>\n",
       "      <th>Vote secret</th>\n",
       "      <th>Nb am.</th>\n",
       "      <th>Amande\n",
       "Ment</th>\n",
       "      <th>Unanimité</th>\n",
       "      <th>...</th>\n",
       "      <th>LR-UDI abst</th>\n",
       "      <th>FN abst</th>\n",
       "      <th>RCGE non  vote</th>\n",
       "      <th>PS non vote</th>\n",
       "      <th>LR-UDI non vote</th>\n",
       "      <th>FN non vote</th>\n",
       "      <th>RCGE hors salle</th>\n",
       "      <th>PS hors salle</th>\n",
       "      <th>LR-UDI hors salle</th>\n",
       "      <th>FN hors salle</th>\n",
       "    </tr>\n",
       "  </thead>\n",
       "  <tbody>\n",
       "    <tr>\n",
       "      <th>0</th>\n",
       "      <td>2016-02-29</td>\n",
       "      <td>2</td>\n",
       "      <td>X</td>\n",
       "      <td>B002</td>\n",
       "      <td>ACTION SOCIALE</td>\n",
       "      <td>DELIBERATION N° 2 - (B 002) - ACTION SOCIALE -...</td>\n",
       "      <td>0.0</td>\n",
       "      <td>0.0</td>\n",
       "      <td>0</td>\n",
       "      <td>x</td>\n",
       "      <td>...</td>\n",
       "      <td>0.0</td>\n",
       "      <td>0.0</td>\n",
       "      <td>0.0</td>\n",
       "      <td>0.0</td>\n",
       "      <td>0.0</td>\n",
       "      <td>0.0</td>\n",
       "      <td>0.0</td>\n",
       "      <td>0.0</td>\n",
       "      <td>0.0</td>\n",
       "      <td>0.0</td>\n",
       "    </tr>\n",
       "    <tr>\n",
       "      <th>1</th>\n",
       "      <td>2016-02-29</td>\n",
       "      <td>3</td>\n",
       "      <td>0</td>\n",
       "      <td>E007</td>\n",
       "      <td>ADMINISTRATION GENERALE</td>\n",
       "      <td>DELIBERATION N° 3 - (E 007) - ADMINISTRATION G...</td>\n",
       "      <td>0.0</td>\n",
       "      <td>0.0</td>\n",
       "      <td>0</td>\n",
       "      <td>0</td>\n",
       "      <td>...</td>\n",
       "      <td>0.0</td>\n",
       "      <td>0.0</td>\n",
       "      <td>0.0</td>\n",
       "      <td>0.0</td>\n",
       "      <td>0.0</td>\n",
       "      <td>0.0</td>\n",
       "      <td>0.0</td>\n",
       "      <td>0.0</td>\n",
       "      <td>0.0</td>\n",
       "      <td>0.0</td>\n",
       "    </tr>\n",
       "    <tr>\n",
       "      <th>2</th>\n",
       "      <td>2016-02-29</td>\n",
       "      <td>4,1</td>\n",
       "      <td>0</td>\n",
       "      <td>A001</td>\n",
       "      <td>VOIES PUBLIQUES</td>\n",
       "      <td>DELIBERATION N° 4 - (A 001) - VOIES PUBLIQUES ...</td>\n",
       "      <td>0.0</td>\n",
       "      <td>0.0</td>\n",
       "      <td>0</td>\n",
       "      <td>0</td>\n",
       "      <td>...</td>\n",
       "      <td>0.0</td>\n",
       "      <td>0.0</td>\n",
       "      <td>1.0</td>\n",
       "      <td>0.0</td>\n",
       "      <td>0.0</td>\n",
       "      <td>0.0</td>\n",
       "      <td>0.0</td>\n",
       "      <td>0.0</td>\n",
       "      <td>0.0</td>\n",
       "      <td>0.0</td>\n",
       "    </tr>\n",
       "    <tr>\n",
       "      <th>3</th>\n",
       "      <td>2016-02-29</td>\n",
       "      <td>4,2</td>\n",
       "      <td>0</td>\n",
       "      <td>A001</td>\n",
       "      <td>VOIES PUBLIQUES</td>\n",
       "      <td>DELIBERATION N° 4 - (A 001) - VOIES PUBLIQUES ...</td>\n",
       "      <td>0.0</td>\n",
       "      <td>0.0</td>\n",
       "      <td>0</td>\n",
       "      <td>0</td>\n",
       "      <td>...</td>\n",
       "      <td>0.0</td>\n",
       "      <td>0.0</td>\n",
       "      <td>0.0</td>\n",
       "      <td>0.0</td>\n",
       "      <td>0.0</td>\n",
       "      <td>2.0</td>\n",
       "      <td>0.0</td>\n",
       "      <td>0.0</td>\n",
       "      <td>0.0</td>\n",
       "      <td>0.0</td>\n",
       "    </tr>\n",
       "    <tr>\n",
       "      <th>4</th>\n",
       "      <td>2016-02-29</td>\n",
       "      <td>0</td>\n",
       "      <td>0</td>\n",
       "      <td>0</td>\n",
       "      <td>VOEU</td>\n",
       "      <td>Voeu du groupe LR sur le jumelage de Grenoble ...</td>\n",
       "      <td>0.0</td>\n",
       "      <td>0.0</td>\n",
       "      <td>0</td>\n",
       "      <td>0</td>\n",
       "      <td>...</td>\n",
       "      <td>0.0</td>\n",
       "      <td>0.0</td>\n",
       "      <td>0.0</td>\n",
       "      <td>3.0</td>\n",
       "      <td>0.0</td>\n",
       "      <td>0.0</td>\n",
       "      <td>0.0</td>\n",
       "      <td>0.0</td>\n",
       "      <td>0.0</td>\n",
       "      <td>0.0</td>\n",
       "    </tr>\n",
       "  </tbody>\n",
       "</table>\n",
       "<p>5 rows × 33 columns</p>\n",
       "</div>"
      ],
      "text/plain": [
       "         Mois   N° 1° délib Lettre                  ss CODE  \\\n",
       "0  2016-02-29    2        X   B002           ACTION SOCIALE   \n",
       "1  2016-02-29    3        0   E007  ADMINISTRATION GENERALE   \n",
       "2  2016-02-29  4,1        0   A001          VOIES PUBLIQUES   \n",
       "3  2016-02-29  4,2        0   A001          VOIES PUBLIQUES   \n",
       "4  2016-02-29    0        0      0                     VOEU   \n",
       "\n",
       "                          Libellé de la délibération  Vote secret  Nb am.  \\\n",
       "0  DELIBERATION N° 2 - (B 002) - ACTION SOCIALE -...          0.0     0.0   \n",
       "1  DELIBERATION N° 3 - (E 007) - ADMINISTRATION G...          0.0     0.0   \n",
       "2  DELIBERATION N° 4 - (A 001) - VOIES PUBLIQUES ...          0.0     0.0   \n",
       "3  DELIBERATION N° 4 - (A 001) - VOIES PUBLIQUES ...          0.0     0.0   \n",
       "4  Voeu du groupe LR sur le jumelage de Grenoble ...          0.0     0.0   \n",
       "\n",
       "  Amande\\nMent Unanimité  ... LR-UDI abst  FN abst RCGE non  vote  \\\n",
       "0            0         x  ...         0.0      0.0            0.0   \n",
       "1            0         0  ...         0.0      0.0            0.0   \n",
       "2            0         0  ...         0.0      0.0            1.0   \n",
       "3            0         0  ...         0.0      0.0            0.0   \n",
       "4            0         0  ...         0.0      0.0            0.0   \n",
       "\n",
       "   PS non vote  LR-UDI non vote  FN non vote  RCGE hors salle  PS hors salle  \\\n",
       "0          0.0              0.0          0.0              0.0            0.0   \n",
       "1          0.0              0.0          0.0              0.0            0.0   \n",
       "2          0.0              0.0          0.0              0.0            0.0   \n",
       "3          0.0              0.0          2.0              0.0            0.0   \n",
       "4          3.0              0.0          0.0              0.0            0.0   \n",
       "\n",
       "   LR-UDI hors salle  FN hors salle  \n",
       "0                0.0            0.0  \n",
       "1                0.0            0.0  \n",
       "2                0.0            0.0  \n",
       "3                0.0            0.0  \n",
       "4                0.0            0.0  \n",
       "\n",
       "[5 rows x 33 columns]"
      ]
     },
     "execution_count": 172,
     "metadata": {},
     "output_type": "execute_result"
    }
   ],
   "source": [
    "grenoble.head()"
   ]
  },
  {
   "cell_type": "markdown",
   "metadata": {},
   "source": [
    "Ce qui se serait passé avec header = 2 :"
   ]
  },
  {
   "cell_type": "code",
   "execution_count": 176,
   "metadata": {
    "scrolled": true
   },
   "outputs": [
    {
     "data": {
      "text/html": [
       "<div>\n",
       "<style scoped>\n",
       "    .dataframe tbody tr th:only-of-type {\n",
       "        vertical-align: middle;\n",
       "    }\n",
       "\n",
       "    .dataframe tbody tr th {\n",
       "        vertical-align: top;\n",
       "    }\n",
       "\n",
       "    .dataframe thead th {\n",
       "        text-align: right;\n",
       "    }\n",
       "</style>\n",
       "<table border=\"1\" class=\"dataframe\">\n",
       "  <thead>\n",
       "    <tr style=\"text-align: right;\">\n",
       "      <th></th>\n",
       "      <th>2016-02-29</th>\n",
       "      <th>2</th>\n",
       "      <th>X</th>\n",
       "      <th>B002</th>\n",
       "      <th>ACTION SOCIALE</th>\n",
       "      <th>DELIBERATION N° 2 - (B 002) - ACTION SOCIALE - Adhésion à l'Association Réseau\n",
       "Francophone des Villes Amies des Ainés et Désignation d'un représentant de la Ville</th>\n",
       "      <th>Unnamed: 6</th>\n",
       "      <th>Unnamed: 7</th>\n",
       "      <th>Unnamed: 8</th>\n",
       "      <th>x</th>\n",
       "      <th>...</th>\n",
       "      <th>Unnamed: 23</th>\n",
       "      <th>Unnamed: 24</th>\n",
       "      <th>Unnamed: 25</th>\n",
       "      <th>Unnamed: 26</th>\n",
       "      <th>Unnamed: 27</th>\n",
       "      <th>Unnamed: 28</th>\n",
       "      <th>Unnamed: 29</th>\n",
       "      <th>Unnamed: 30</th>\n",
       "      <th>Unnamed: 31</th>\n",
       "      <th>Unnamed: 32</th>\n",
       "    </tr>\n",
       "  </thead>\n",
       "  <tbody>\n",
       "    <tr>\n",
       "      <th>0</th>\n",
       "      <td>2016-02-29</td>\n",
       "      <td>3</td>\n",
       "      <td>NaN</td>\n",
       "      <td>E007</td>\n",
       "      <td>ADMINISTRATION GENERALE</td>\n",
       "      <td>DELIBERATION N° 3 - (E 007) - ADMINISTRATION G...</td>\n",
       "      <td>NaN</td>\n",
       "      <td>NaN</td>\n",
       "      <td>NaN</td>\n",
       "      <td>NaN</td>\n",
       "      <td>...</td>\n",
       "      <td>NaN</td>\n",
       "      <td>NaN</td>\n",
       "      <td>NaN</td>\n",
       "      <td>NaN</td>\n",
       "      <td>NaN</td>\n",
       "      <td>NaN</td>\n",
       "      <td>NaN</td>\n",
       "      <td>NaN</td>\n",
       "      <td>NaN</td>\n",
       "      <td>NaN</td>\n",
       "    </tr>\n",
       "    <tr>\n",
       "      <th>1</th>\n",
       "      <td>2016-02-29</td>\n",
       "      <td>4,1</td>\n",
       "      <td>NaN</td>\n",
       "      <td>A001</td>\n",
       "      <td>VOIES PUBLIQUES</td>\n",
       "      <td>DELIBERATION N° 4 - (A 001) - VOIES PUBLIQUES ...</td>\n",
       "      <td>NaN</td>\n",
       "      <td>NaN</td>\n",
       "      <td>NaN</td>\n",
       "      <td>NaN</td>\n",
       "      <td>...</td>\n",
       "      <td>NaN</td>\n",
       "      <td>NaN</td>\n",
       "      <td>1.0</td>\n",
       "      <td>NaN</td>\n",
       "      <td>NaN</td>\n",
       "      <td>NaN</td>\n",
       "      <td>NaN</td>\n",
       "      <td>NaN</td>\n",
       "      <td>NaN</td>\n",
       "      <td>NaN</td>\n",
       "    </tr>\n",
       "  </tbody>\n",
       "</table>\n",
       "<p>2 rows × 33 columns</p>\n",
       "</div>"
      ],
      "text/plain": [
       "   2016-02-29    2   X  B002           ACTION SOCIALE  \\\n",
       "0  2016-02-29    3 NaN  E007  ADMINISTRATION GENERALE   \n",
       "1  2016-02-29  4,1 NaN  A001          VOIES PUBLIQUES   \n",
       "\n",
       "  DELIBERATION N° 2 - (B 002) - ACTION SOCIALE - Adhésion à l'Association Réseau\\nFrancophone des Villes Amies des Ainés et Désignation d'un représentant de la Ville  \\\n",
       "0  DELIBERATION N° 3 - (E 007) - ADMINISTRATION G...                                                                                                                    \n",
       "1  DELIBERATION N° 4 - (A 001) - VOIES PUBLIQUES ...                                                                                                                    \n",
       "\n",
       "   Unnamed: 6  Unnamed: 7 Unnamed: 8    x  ... Unnamed: 23  Unnamed: 24  \\\n",
       "0         NaN         NaN        NaN  NaN  ...         NaN          NaN   \n",
       "1         NaN         NaN        NaN  NaN  ...         NaN          NaN   \n",
       "\n",
       "  Unnamed: 25  Unnamed: 26  Unnamed: 27  Unnamed: 28  Unnamed: 29  \\\n",
       "0         NaN          NaN          NaN          NaN          NaN   \n",
       "1         1.0          NaN          NaN          NaN          NaN   \n",
       "\n",
       "   Unnamed: 30  Unnamed: 31  Unnamed: 32  \n",
       "0          NaN          NaN          NaN  \n",
       "1          NaN          NaN          NaN  \n",
       "\n",
       "[2 rows x 33 columns]"
      ]
     },
     "execution_count": 176,
     "metadata": {},
     "output_type": "execute_result"
    }
   ],
   "source": [
    "grenoble2=pd.read_csv(io.StringIO(req.decode('utf-8')), header = 2)\n",
    "grenoble2.columns\n",
    "grenoble2.head(2)"
   ]
  },
  {
   "cell_type": "markdown",
   "metadata": {},
   "source": [
    "Il faut traiter les problèmes des NaN. Cela se fait à l'aide de la fonction fillna."
   ]
  },
  {
   "cell_type": "code",
   "execution_count": 68,
   "metadata": {},
   "outputs": [],
   "source": [
    "grenoble = grenoble.fillna(0)"
   ]
  },
  {
   "cell_type": "code",
   "execution_count": 69,
   "metadata": {},
   "outputs": [
    {
     "data": {
      "text/html": [
       "<div>\n",
       "<style scoped>\n",
       "    .dataframe tbody tr th:only-of-type {\n",
       "        vertical-align: middle;\n",
       "    }\n",
       "\n",
       "    .dataframe tbody tr th {\n",
       "        vertical-align: top;\n",
       "    }\n",
       "\n",
       "    .dataframe thead th {\n",
       "        text-align: right;\n",
       "    }\n",
       "</style>\n",
       "<table border=\"1\" class=\"dataframe\">\n",
       "  <thead>\n",
       "    <tr style=\"text-align: right;\">\n",
       "      <th></th>\n",
       "      <th>Mois</th>\n",
       "      <th>N°</th>\n",
       "      <th>1° délib</th>\n",
       "      <th>Lettre</th>\n",
       "      <th>ss CODE</th>\n",
       "      <th>Libellé de la délibération</th>\n",
       "      <th>Vote secret</th>\n",
       "      <th>Nb am.</th>\n",
       "      <th>Amande\n",
       "Ment</th>\n",
       "      <th>Unanimité</th>\n",
       "      <th>...</th>\n",
       "      <th>LR-UDI abst</th>\n",
       "      <th>FN abst</th>\n",
       "      <th>RCGE non  vote</th>\n",
       "      <th>PS non vote</th>\n",
       "      <th>LR-UDI non vote</th>\n",
       "      <th>FN non vote</th>\n",
       "      <th>RCGE hors salle</th>\n",
       "      <th>PS hors salle</th>\n",
       "      <th>LR-UDI hors salle</th>\n",
       "      <th>FN hors salle</th>\n",
       "    </tr>\n",
       "  </thead>\n",
       "  <tbody>\n",
       "    <tr>\n",
       "      <th>0</th>\n",
       "      <td>2016-02-29</td>\n",
       "      <td>2</td>\n",
       "      <td>X</td>\n",
       "      <td>B002</td>\n",
       "      <td>ACTION SOCIALE</td>\n",
       "      <td>DELIBERATION N° 2 - (B 002) - ACTION SOCIALE -...</td>\n",
       "      <td>0.0</td>\n",
       "      <td>0.0</td>\n",
       "      <td>0</td>\n",
       "      <td>x</td>\n",
       "      <td>...</td>\n",
       "      <td>0.0</td>\n",
       "      <td>0.0</td>\n",
       "      <td>0.0</td>\n",
       "      <td>0.0</td>\n",
       "      <td>0.0</td>\n",
       "      <td>0.0</td>\n",
       "      <td>0.0</td>\n",
       "      <td>0.0</td>\n",
       "      <td>0.0</td>\n",
       "      <td>0.0</td>\n",
       "    </tr>\n",
       "    <tr>\n",
       "      <th>1</th>\n",
       "      <td>2016-02-29</td>\n",
       "      <td>3</td>\n",
       "      <td>0</td>\n",
       "      <td>E007</td>\n",
       "      <td>ADMINISTRATION GENERALE</td>\n",
       "      <td>DELIBERATION N° 3 - (E 007) - ADMINISTRATION G...</td>\n",
       "      <td>0.0</td>\n",
       "      <td>0.0</td>\n",
       "      <td>0</td>\n",
       "      <td>0</td>\n",
       "      <td>...</td>\n",
       "      <td>0.0</td>\n",
       "      <td>0.0</td>\n",
       "      <td>0.0</td>\n",
       "      <td>0.0</td>\n",
       "      <td>0.0</td>\n",
       "      <td>0.0</td>\n",
       "      <td>0.0</td>\n",
       "      <td>0.0</td>\n",
       "      <td>0.0</td>\n",
       "      <td>0.0</td>\n",
       "    </tr>\n",
       "    <tr>\n",
       "      <th>2</th>\n",
       "      <td>2016-02-29</td>\n",
       "      <td>4,1</td>\n",
       "      <td>0</td>\n",
       "      <td>A001</td>\n",
       "      <td>VOIES PUBLIQUES</td>\n",
       "      <td>DELIBERATION N° 4 - (A 001) - VOIES PUBLIQUES ...</td>\n",
       "      <td>0.0</td>\n",
       "      <td>0.0</td>\n",
       "      <td>0</td>\n",
       "      <td>0</td>\n",
       "      <td>...</td>\n",
       "      <td>0.0</td>\n",
       "      <td>0.0</td>\n",
       "      <td>1.0</td>\n",
       "      <td>0.0</td>\n",
       "      <td>0.0</td>\n",
       "      <td>0.0</td>\n",
       "      <td>0.0</td>\n",
       "      <td>0.0</td>\n",
       "      <td>0.0</td>\n",
       "      <td>0.0</td>\n",
       "    </tr>\n",
       "    <tr>\n",
       "      <th>3</th>\n",
       "      <td>2016-02-29</td>\n",
       "      <td>4,2</td>\n",
       "      <td>0</td>\n",
       "      <td>A001</td>\n",
       "      <td>VOIES PUBLIQUES</td>\n",
       "      <td>DELIBERATION N° 4 - (A 001) - VOIES PUBLIQUES ...</td>\n",
       "      <td>0.0</td>\n",
       "      <td>0.0</td>\n",
       "      <td>0</td>\n",
       "      <td>0</td>\n",
       "      <td>...</td>\n",
       "      <td>0.0</td>\n",
       "      <td>0.0</td>\n",
       "      <td>0.0</td>\n",
       "      <td>0.0</td>\n",
       "      <td>0.0</td>\n",
       "      <td>2.0</td>\n",
       "      <td>0.0</td>\n",
       "      <td>0.0</td>\n",
       "      <td>0.0</td>\n",
       "      <td>0.0</td>\n",
       "    </tr>\n",
       "    <tr>\n",
       "      <th>4</th>\n",
       "      <td>2016-02-29</td>\n",
       "      <td>0</td>\n",
       "      <td>0</td>\n",
       "      <td>0</td>\n",
       "      <td>VOEU</td>\n",
       "      <td>Voeu du groupe LR sur le jumelage de Grenoble ...</td>\n",
       "      <td>0.0</td>\n",
       "      <td>0.0</td>\n",
       "      <td>0</td>\n",
       "      <td>0</td>\n",
       "      <td>...</td>\n",
       "      <td>0.0</td>\n",
       "      <td>0.0</td>\n",
       "      <td>0.0</td>\n",
       "      <td>3.0</td>\n",
       "      <td>0.0</td>\n",
       "      <td>0.0</td>\n",
       "      <td>0.0</td>\n",
       "      <td>0.0</td>\n",
       "      <td>0.0</td>\n",
       "      <td>0.0</td>\n",
       "    </tr>\n",
       "  </tbody>\n",
       "</table>\n",
       "<p>5 rows × 33 columns</p>\n",
       "</div>"
      ],
      "text/plain": [
       "         Mois   N° 1° délib Lettre                  ss CODE  \\\n",
       "0  2016-02-29    2        X   B002           ACTION SOCIALE   \n",
       "1  2016-02-29    3        0   E007  ADMINISTRATION GENERALE   \n",
       "2  2016-02-29  4,1        0   A001          VOIES PUBLIQUES   \n",
       "3  2016-02-29  4,2        0   A001          VOIES PUBLIQUES   \n",
       "4  2016-02-29    0        0      0                     VOEU   \n",
       "\n",
       "                          Libellé de la délibération  Vote secret  Nb am.  \\\n",
       "0  DELIBERATION N° 2 - (B 002) - ACTION SOCIALE -...          0.0     0.0   \n",
       "1  DELIBERATION N° 3 - (E 007) - ADMINISTRATION G...          0.0     0.0   \n",
       "2  DELIBERATION N° 4 - (A 001) - VOIES PUBLIQUES ...          0.0     0.0   \n",
       "3  DELIBERATION N° 4 - (A 001) - VOIES PUBLIQUES ...          0.0     0.0   \n",
       "4  Voeu du groupe LR sur le jumelage de Grenoble ...          0.0     0.0   \n",
       "\n",
       "  Amande\\nMent Unanimité  ... LR-UDI abst  FN abst RCGE non  vote  \\\n",
       "0            0         x  ...         0.0      0.0            0.0   \n",
       "1            0         0  ...         0.0      0.0            0.0   \n",
       "2            0         0  ...         0.0      0.0            1.0   \n",
       "3            0         0  ...         0.0      0.0            0.0   \n",
       "4            0         0  ...         0.0      0.0            0.0   \n",
       "\n",
       "   PS non vote  LR-UDI non vote  FN non vote  RCGE hors salle  PS hors salle  \\\n",
       "0          0.0              0.0          0.0              0.0            0.0   \n",
       "1          0.0              0.0          0.0              0.0            0.0   \n",
       "2          0.0              0.0          0.0              0.0            0.0   \n",
       "3          0.0              0.0          2.0              0.0            0.0   \n",
       "4          3.0              0.0          0.0              0.0            0.0   \n",
       "\n",
       "   LR-UDI hors salle  FN hors salle  \n",
       "0                0.0            0.0  \n",
       "1                0.0            0.0  \n",
       "2                0.0            0.0  \n",
       "3                0.0            0.0  \n",
       "4                0.0            0.0  \n",
       "\n",
       "[5 rows x 33 columns]"
      ]
     },
     "execution_count": 69,
     "metadata": {},
     "output_type": "execute_result"
    }
   ],
   "source": [
    "grenoble.head()"
   ]
  },
  {
   "cell_type": "markdown",
   "metadata": {},
   "source": [
    "## 2. Exploration des données"
   ]
  },
  {
   "cell_type": "code",
   "execution_count": 70,
   "metadata": {},
   "outputs": [
    {
     "data": {
      "text/plain": [
       "Index(['Mois', 'N°', '1° délib', 'Lettre', 'ss CODE',\n",
       "       'Libellé de la délibération', 'Vote secret', 'Nb am.', 'Amande\\nMent',\n",
       "       'Unanimité', 'Solitude', 'Votes divergents', 'Noms divergents',\n",
       "       'RCGE pour', 'PS pour', 'LR-UDI pour', 'FN pour', 'RCGE contre',\n",
       "       'PS contre ', 'LR-UDI contre', 'FN contre', 'RCGE abst', 'PS abst ',\n",
       "       'LR-UDI abst', 'FN abst', 'RCGE non  vote', 'PS non vote',\n",
       "       'LR-UDI non vote', 'FN non vote', 'RCGE hors salle', 'PS hors salle',\n",
       "       'LR-UDI hors salle', 'FN hors salle'],\n",
       "      dtype='object')"
      ]
     },
     "execution_count": 70,
     "metadata": {},
     "output_type": "execute_result"
    }
   ],
   "source": [
    "grenoble.columns"
   ]
  },
  {
   "cell_type": "markdown",
   "metadata": {},
   "source": [
    "Nous regarderons les votes après. Regardons pour le moment les différentes spécificités. Notamment le nombre \"d'écart\"."
   ]
  },
  {
   "cell_type": "code",
   "execution_count": 170,
   "metadata": {},
   "outputs": [
    {
     "data": {
      "text/plain": [
       "36"
      ]
     },
     "execution_count": 170,
     "metadata": {},
     "output_type": "execute_result"
    }
   ],
   "source": [
    "len(grenoble)"
   ]
  },
  {
   "cell_type": "code",
   "execution_count": 168,
   "metadata": {},
   "outputs": [
    {
     "data": {
      "text/plain": [
       "2"
      ]
     },
     "execution_count": 168,
     "metadata": {},
     "output_type": "execute_result"
    }
   ],
   "source": [
    "len(grenoble)-len(set(grenoble['Lettre']))"
   ]
  },
  {
   "cell_type": "code",
   "execution_count": 169,
   "metadata": {},
   "outputs": [
    {
     "data": {
      "text/plain": [
       "19"
      ]
     },
     "execution_count": 169,
     "metadata": {},
     "output_type": "execute_result"
    }
   ],
   "source": [
    "len(grenoble)-len(set(grenoble['ss CODE']))"
   ]
  },
  {
   "cell_type": "code",
   "execution_count": 171,
   "metadata": {},
   "outputs": [
    {
     "data": {
      "text/plain": [
       "{'ACTION SOCIALE',\n",
       " 'ADMINISTRATION GENERALE',\n",
       " 'ADMINISTRATION MUNICIPALE',\n",
       " 'AFFAIRES CULTURELLES',\n",
       " 'AFFAIRES SCOLAIRES',\n",
       " 'DEVELOPPEMENT ECONOMIQUE',\n",
       " 'DOMAINE PUBLIC',\n",
       " 'FINANCES',\n",
       " 'JEUNESSE',\n",
       " 'MONTAGNE',\n",
       " 'PERSONNEL DES SERVICES MUNICIPAUX',\n",
       " 'RELATIONS INTERNATIONALES',\n",
       " 'SANTE PUBLIQUE',\n",
       " 'SPORT',\n",
       " 'URBANISME CESSIONS ACQUISITIONS',\n",
       " 'VOEU',\n",
       " 'VOIES PUBLIQUES'}"
      ]
     },
     "execution_count": 171,
     "metadata": {},
     "output_type": "execute_result"
    }
   ],
   "source": [
    "set(grenoble['ss CODE'])"
   ]
  },
  {
   "cell_type": "markdown",
   "metadata": {},
   "source": [
    "Cette liste sera intéressante pour analyser les différents types de vote. Notamment pour les votes contestataires."
   ]
  },
  {
   "cell_type": "code",
   "execution_count": 173,
   "metadata": {},
   "outputs": [
    {
     "data": {
      "text/plain": [
       "0"
      ]
     },
     "execution_count": 173,
     "metadata": {},
     "output_type": "execute_result"
    }
   ],
   "source": [
    "len(grenoble)-len(set(grenoble['Libellé de la délibération']))"
   ]
  },
  {
   "cell_type": "code",
   "execution_count": 175,
   "metadata": {},
   "outputs": [
    {
     "data": {
      "text/plain": [
       "{'2016-02-29'}"
      ]
     },
     "execution_count": 175,
     "metadata": {},
     "output_type": "execute_result"
    }
   ],
   "source": [
    "set(grenoble['Mois'])"
   ]
  },
  {
   "cell_type": "markdown",
   "metadata": {},
   "source": [
    "Il y a donc eu 36 délibérations le 29 Février 2016. En réalité, le jeu de donnée ne concerne que les délibérations de ce jour là. https://nosconseilsmunicipaux.grelibre.org/2016/03/conseil-du-29-fevrier-2016/"
   ]
  },
  {
   "cell_type": "code",
   "execution_count": 71,
   "metadata": {},
   "outputs": [
    {
     "data": {
      "text/html": [
       "<div>\n",
       "<style scoped>\n",
       "    .dataframe tbody tr th:only-of-type {\n",
       "        vertical-align: middle;\n",
       "    }\n",
       "\n",
       "    .dataframe tbody tr th {\n",
       "        vertical-align: top;\n",
       "    }\n",
       "\n",
       "    .dataframe thead th {\n",
       "        text-align: right;\n",
       "    }\n",
       "</style>\n",
       "<table border=\"1\" class=\"dataframe\">\n",
       "  <thead>\n",
       "    <tr style=\"text-align: right;\">\n",
       "      <th></th>\n",
       "      <th>Mois</th>\n",
       "      <th>N°</th>\n",
       "      <th>1° délib</th>\n",
       "      <th>Lettre</th>\n",
       "      <th>ss CODE</th>\n",
       "      <th>Libellé de la délibération</th>\n",
       "      <th>Vote secret</th>\n",
       "      <th>Nb am.</th>\n",
       "      <th>Amande\n",
       "Ment</th>\n",
       "      <th>Unanimité</th>\n",
       "      <th>...</th>\n",
       "      <th>LR-UDI abst</th>\n",
       "      <th>FN abst</th>\n",
       "      <th>RCGE non  vote</th>\n",
       "      <th>PS non vote</th>\n",
       "      <th>LR-UDI non vote</th>\n",
       "      <th>FN non vote</th>\n",
       "      <th>RCGE hors salle</th>\n",
       "      <th>PS hors salle</th>\n",
       "      <th>LR-UDI hors salle</th>\n",
       "      <th>FN hors salle</th>\n",
       "    </tr>\n",
       "  </thead>\n",
       "  <tbody>\n",
       "  </tbody>\n",
       "</table>\n",
       "<p>0 rows × 33 columns</p>\n",
       "</div>"
      ],
      "text/plain": [
       "Empty DataFrame\n",
       "Columns: [Mois, N°, 1° délib, Lettre, ss CODE, Libellé de la délibération, Vote secret, Nb am., Amande\n",
       "Ment, Unanimité, Solitude, Votes divergents, Noms divergents, RCGE pour, PS pour, LR-UDI pour, FN pour, RCGE contre, PS contre , LR-UDI contre, FN contre, RCGE abst, PS abst , LR-UDI abst, FN abst, RCGE non  vote, PS non vote, LR-UDI non vote, FN non vote, RCGE hors salle, PS hors salle, LR-UDI hors salle, FN hors salle]\n",
       "Index: []\n",
       "\n",
       "[0 rows x 33 columns]"
      ]
     },
     "execution_count": 71,
     "metadata": {},
     "output_type": "execute_result"
    }
   ],
   "source": [
    "bool_vs = grenoble['Vote secret'] != 0\n",
    "grenoble[bool_vs]"
   ]
  },
  {
   "cell_type": "markdown",
   "metadata": {},
   "source": [
    "Il n'y a pas eu de vote secret ce jour là. Y-a-t-il eu des votes divergents ?"
   ]
  },
  {
   "cell_type": "code",
   "execution_count": 177,
   "metadata": {},
   "outputs": [
    {
     "data": {
      "text/html": [
       "<div>\n",
       "<style scoped>\n",
       "    .dataframe tbody tr th:only-of-type {\n",
       "        vertical-align: middle;\n",
       "    }\n",
       "\n",
       "    .dataframe tbody tr th {\n",
       "        vertical-align: top;\n",
       "    }\n",
       "\n",
       "    .dataframe thead th {\n",
       "        text-align: right;\n",
       "    }\n",
       "</style>\n",
       "<table border=\"1\" class=\"dataframe\">\n",
       "  <thead>\n",
       "    <tr style=\"text-align: right;\">\n",
       "      <th></th>\n",
       "      <th>Mois</th>\n",
       "      <th>N°</th>\n",
       "      <th>1° délib</th>\n",
       "      <th>Lettre</th>\n",
       "      <th>ss CODE</th>\n",
       "      <th>Libellé de la délibération</th>\n",
       "      <th>Vote secret</th>\n",
       "      <th>Nb am.</th>\n",
       "      <th>Amande\n",
       "Ment</th>\n",
       "      <th>Unanimité</th>\n",
       "      <th>...</th>\n",
       "      <th>LR-UDI abst</th>\n",
       "      <th>FN abst</th>\n",
       "      <th>RCGE non  vote</th>\n",
       "      <th>PS non vote</th>\n",
       "      <th>LR-UDI non vote</th>\n",
       "      <th>FN non vote</th>\n",
       "      <th>RCGE hors salle</th>\n",
       "      <th>PS hors salle</th>\n",
       "      <th>LR-UDI hors salle</th>\n",
       "      <th>FN hors salle</th>\n",
       "    </tr>\n",
       "  </thead>\n",
       "  <tbody>\n",
       "    <tr>\n",
       "      <th>19</th>\n",
       "      <td>2016-02-29</td>\n",
       "      <td>20</td>\n",
       "      <td>0</td>\n",
       "      <td>E017</td>\n",
       "      <td>DEVELOPPEMENT ECONOMIQUE</td>\n",
       "      <td>DELIBERATION N° 20 - (E 017) - DEVELOPPEMENT E...</td>\n",
       "      <td>0.0</td>\n",
       "      <td>0.0</td>\n",
       "      <td>0</td>\n",
       "      <td>0</td>\n",
       "      <td>...</td>\n",
       "      <td>0.0</td>\n",
       "      <td>0.0</td>\n",
       "      <td>1.0</td>\n",
       "      <td>0.0</td>\n",
       "      <td>0.0</td>\n",
       "      <td>0.0</td>\n",
       "      <td>0.0</td>\n",
       "      <td>0.0</td>\n",
       "      <td>0.0</td>\n",
       "      <td>0.0</td>\n",
       "    </tr>\n",
       "    <tr>\n",
       "      <th>24</th>\n",
       "      <td>2016-02-29</td>\n",
       "      <td>24</td>\n",
       "      <td>0</td>\n",
       "      <td>C006</td>\n",
       "      <td>AFFAIRES SCOLAIRES</td>\n",
       "      <td>DELIBERATION N° 24 - (C 006) - AFFAIRES SCOLAI...</td>\n",
       "      <td>0.0</td>\n",
       "      <td>0.0</td>\n",
       "      <td>0</td>\n",
       "      <td>0</td>\n",
       "      <td>...</td>\n",
       "      <td>0.0</td>\n",
       "      <td>0.0</td>\n",
       "      <td>6.0</td>\n",
       "      <td>0.0</td>\n",
       "      <td>0.0</td>\n",
       "      <td>0.0</td>\n",
       "      <td>0.0</td>\n",
       "      <td>0.0</td>\n",
       "      <td>0.0</td>\n",
       "      <td>0.0</td>\n",
       "    </tr>\n",
       "  </tbody>\n",
       "</table>\n",
       "<p>2 rows × 33 columns</p>\n",
       "</div>"
      ],
      "text/plain": [
       "          Mois  N° 1° délib Lettre                   ss CODE  \\\n",
       "19  2016-02-29  20        0   E017  DEVELOPPEMENT ECONOMIQUE   \n",
       "24  2016-02-29  24        0   C006        AFFAIRES SCOLAIRES   \n",
       "\n",
       "                           Libellé de la délibération  Vote secret  Nb am.  \\\n",
       "19  DELIBERATION N° 20 - (E 017) - DEVELOPPEMENT E...          0.0     0.0   \n",
       "24  DELIBERATION N° 24 - (C 006) - AFFAIRES SCOLAI...          0.0     0.0   \n",
       "\n",
       "   Amande\\nMent Unanimité  ... LR-UDI abst  FN abst RCGE non  vote  \\\n",
       "19            0         0  ...         0.0      0.0            1.0   \n",
       "24            0         0  ...         0.0      0.0            6.0   \n",
       "\n",
       "    PS non vote  LR-UDI non vote  FN non vote  RCGE hors salle  PS hors salle  \\\n",
       "19          0.0              0.0          0.0              0.0            0.0   \n",
       "24          0.0              0.0          0.0              0.0            0.0   \n",
       "\n",
       "    LR-UDI hors salle  FN hors salle  \n",
       "19                0.0            0.0  \n",
       "24                0.0            0.0  \n",
       "\n",
       "[2 rows x 33 columns]"
      ]
     },
     "execution_count": 177,
     "metadata": {},
     "output_type": "execute_result"
    }
   ],
   "source": [
    "bool_vd = grenoble['Votes divergents'] != 0\n",
    "grenoble[bool_vd]"
   ]
  },
  {
   "cell_type": "code",
   "execution_count": 178,
   "metadata": {},
   "outputs": [
    {
     "data": {
      "text/plain": [
       "Mois                                                                 2016-02-29\n",
       "N°                                                                           20\n",
       "1° délib                                                                      0\n",
       "Lettre                                                                     E017\n",
       "ss CODE                                                DEVELOPPEMENT ECONOMIQUE\n",
       "Libellé de la délibération    DELIBERATION N° 20 - (E 017) - DEVELOPPEMENT E...\n",
       "Vote secret                                                                   0\n",
       "Nb am.                                                                        0\n",
       "Amande\\nMent                                                                  0\n",
       "Unanimité                                                                     0\n",
       "Solitude                                                                      0\n",
       "Votes divergents                                                              1\n",
       "Noms divergents                                               Clouaire\\n (RCGE)\n",
       "RCGE pour                                                                    41\n",
       "PS pour                                                                       8\n",
       "LR-UDI pour                                                                   7\n",
       "FN pour                                                                       2\n",
       "RCGE contre                                                                   0\n",
       "PS contre                                                                     0\n",
       "LR-UDI contre                                                                 0\n",
       "FN contre                                                                     0\n",
       "RCGE abst                                                                     0\n",
       "PS abst                                                                       0\n",
       "LR-UDI abst                                                                   0\n",
       "FN abst                                                                       0\n",
       "RCGE non  vote                                                                1\n",
       "PS non vote                                                                   0\n",
       "LR-UDI non vote                                                               0\n",
       "FN non vote                                                                   0\n",
       "RCGE hors salle                                                               0\n",
       "PS hors salle                                                                 0\n",
       "LR-UDI hors salle                                                             0\n",
       "FN hors salle                                                                 0\n",
       "Name: 19, dtype: object"
      ]
     },
     "execution_count": 178,
     "metadata": {},
     "output_type": "execute_result"
    }
   ],
   "source": [
    "grenoble.iloc[19]"
   ]
  },
  {
   "cell_type": "code",
   "execution_count": 179,
   "metadata": {},
   "outputs": [
    {
     "data": {
      "text/plain": [
       "Mois                                                                 2016-02-29\n",
       "N°                                                                           24\n",
       "1° délib                                                                      0\n",
       "Lettre                                                                     C006\n",
       "ss CODE                                                      AFFAIRES SCOLAIRES\n",
       "Libellé de la délibération    DELIBERATION N° 24 - (C 006) - AFFAIRES SCOLAI...\n",
       "Vote secret                                                                   0\n",
       "Nb am.                                                                        0\n",
       "Amande\\nMent                                                                  0\n",
       "Unanimité                                                                     0\n",
       "Solitude                                                                      0\n",
       "Votes divergents                                                              1\n",
       "Noms divergents                                                 Boukaala\\n (PS)\n",
       "RCGE pour                                                                    36\n",
       "PS pour                                                                       7\n",
       "LR-UDI pour                                                                   7\n",
       "FN pour                                                                       2\n",
       "RCGE contre                                                                   0\n",
       "PS contre                                                                     0\n",
       "LR-UDI contre                                                                 0\n",
       "FN contre                                                                     0\n",
       "RCGE abst                                                                     0\n",
       "PS abst                                                                       1\n",
       "LR-UDI abst                                                                   0\n",
       "FN abst                                                                       0\n",
       "RCGE non  vote                                                                6\n",
       "PS non vote                                                                   0\n",
       "LR-UDI non vote                                                               0\n",
       "FN non vote                                                                   0\n",
       "RCGE hors salle                                                               0\n",
       "PS hors salle                                                                 0\n",
       "LR-UDI hors salle                                                             0\n",
       "FN hors salle                                                                 0\n",
       "Name: 24, dtype: object"
      ]
     },
     "execution_count": 179,
     "metadata": {},
     "output_type": "execute_result"
    }
   ],
   "source": [
    "grenoble.iloc[24]"
   ]
  },
  {
   "cell_type": "markdown",
   "metadata": {},
   "source": [
    "## 2. Analyse des votes selon les différents partis\n",
    "\n",
    "### a) Premières manipulations. Comment vote le parti majoritaire ?"
   ]
  },
  {
   "cell_type": "code",
   "execution_count": 180,
   "metadata": {},
   "outputs": [
    {
     "name": "stdout",
     "output_type": "stream",
     "text": [
      "['RCGE pour', 'RCGE contre', 'RCGE abst', 'RCGE non  vote', 'RCGE hors salle']\n"
     ]
    }
   ],
   "source": [
    "Ensemble_RCGE = []\n",
    "for titre in grenoble.columns : \n",
    "    if 'RCGE' in titre : \n",
    "        Ensemble_RCGE.append(titre)\n",
    "print(Ensemble_RCGE)"
   ]
  },
  {
   "cell_type": "markdown",
   "metadata": {},
   "source": [
    "Ceci permet de sélectionner toutes les colonnes dans lesquels le PS vote. Pour sélectionner un ensemble de colonnes, il faut mettre la liste des colonnes, sous format liste. Pour sélectionner un numéro de ligne, il faut utiliser iloc."
   ]
  },
  {
   "cell_type": "code",
   "execution_count": 181,
   "metadata": {},
   "outputs": [
    {
     "data": {
      "text/plain": [
       "RCGE pour          42.0\n",
       "RCGE contre         0.0\n",
       "RCGE abst           0.0\n",
       "RCGE non  vote      0.0\n",
       "RCGE hors salle     0.0\n",
       "Name: 0, dtype: float64"
      ]
     },
     "execution_count": 181,
     "metadata": {},
     "output_type": "execute_result"
    }
   ],
   "source": [
    "grenoble[Ensemble_RCGE].iloc[0]\n",
    "    "
   ]
  },
  {
   "cell_type": "markdown",
   "metadata": {},
   "source": [
    "Les codes suivants ne marchent pas."
   ]
  },
  {
   "cell_type": "code",
   "execution_count": 88,
   "metadata": {},
   "outputs": [
    {
     "ename": "KeyError",
     "evalue": "('PS pour', 'PS contre')",
     "output_type": "error",
     "traceback": [
      "\u001b[0;31m---------------------------------------------------------------------------\u001b[0m",
      "\u001b[0;31mKeyError\u001b[0m                                  Traceback (most recent call last)",
      "\u001b[0;32m~/anaconda3/lib/python3.7/site-packages/pandas/core/indexes/base.py\u001b[0m in \u001b[0;36mget_loc\u001b[0;34m(self, key, method, tolerance)\u001b[0m\n\u001b[1;32m   2656\u001b[0m             \u001b[0;32mtry\u001b[0m\u001b[0;34m:\u001b[0m\u001b[0;34m\u001b[0m\u001b[0;34m\u001b[0m\u001b[0m\n\u001b[0;32m-> 2657\u001b[0;31m                 \u001b[0;32mreturn\u001b[0m \u001b[0mself\u001b[0m\u001b[0;34m.\u001b[0m\u001b[0m_engine\u001b[0m\u001b[0;34m.\u001b[0m\u001b[0mget_loc\u001b[0m\u001b[0;34m(\u001b[0m\u001b[0mkey\u001b[0m\u001b[0;34m)\u001b[0m\u001b[0;34m\u001b[0m\u001b[0;34m\u001b[0m\u001b[0m\n\u001b[0m\u001b[1;32m   2658\u001b[0m             \u001b[0;32mexcept\u001b[0m \u001b[0mKeyError\u001b[0m\u001b[0;34m:\u001b[0m\u001b[0;34m\u001b[0m\u001b[0;34m\u001b[0m\u001b[0m\n",
      "\u001b[0;32mpandas/_libs/index.pyx\u001b[0m in \u001b[0;36mpandas._libs.index.IndexEngine.get_loc\u001b[0;34m()\u001b[0m\n",
      "\u001b[0;32mpandas/_libs/index.pyx\u001b[0m in \u001b[0;36mpandas._libs.index.IndexEngine.get_loc\u001b[0;34m()\u001b[0m\n",
      "\u001b[0;32mpandas/_libs/hashtable_class_helper.pxi\u001b[0m in \u001b[0;36mpandas._libs.hashtable.PyObjectHashTable.get_item\u001b[0;34m()\u001b[0m\n",
      "\u001b[0;32mpandas/_libs/hashtable_class_helper.pxi\u001b[0m in \u001b[0;36mpandas._libs.hashtable.PyObjectHashTable.get_item\u001b[0;34m()\u001b[0m\n",
      "\u001b[0;31mKeyError\u001b[0m: ('PS pour', 'PS contre')",
      "\nDuring handling of the above exception, another exception occurred:\n",
      "\u001b[0;31mKeyError\u001b[0m                                  Traceback (most recent call last)",
      "\u001b[0;32m<ipython-input-88-b1aa2649b2a7>\u001b[0m in \u001b[0;36m<module>\u001b[0;34m\u001b[0m\n\u001b[0;32m----> 1\u001b[0;31m \u001b[0mgrenoble\u001b[0m\u001b[0;34m[\u001b[0m\u001b[0;34m'PS pour'\u001b[0m\u001b[0;34m,\u001b[0m \u001b[0;34m'PS contre'\u001b[0m\u001b[0;34m]\u001b[0m\u001b[0;34m\u001b[0m\u001b[0;34m\u001b[0m\u001b[0m\n\u001b[0m\u001b[1;32m      2\u001b[0m \u001b[0mgrenoble\u001b[0m\u001b[0;34m.\u001b[0m\u001b[0mloc\u001b[0m\u001b[0;34m[\u001b[0m\u001b[0mEnsemble_PS\u001b[0m\u001b[0;34m]\u001b[0m\u001b[0;34m\u001b[0m\u001b[0;34m\u001b[0m\u001b[0m\n",
      "\u001b[0;32m~/anaconda3/lib/python3.7/site-packages/pandas/core/frame.py\u001b[0m in \u001b[0;36m__getitem__\u001b[0;34m(self, key)\u001b[0m\n\u001b[1;32m   2925\u001b[0m             \u001b[0;32mif\u001b[0m \u001b[0mself\u001b[0m\u001b[0;34m.\u001b[0m\u001b[0mcolumns\u001b[0m\u001b[0;34m.\u001b[0m\u001b[0mnlevels\u001b[0m \u001b[0;34m>\u001b[0m \u001b[0;36m1\u001b[0m\u001b[0;34m:\u001b[0m\u001b[0;34m\u001b[0m\u001b[0;34m\u001b[0m\u001b[0m\n\u001b[1;32m   2926\u001b[0m                 \u001b[0;32mreturn\u001b[0m \u001b[0mself\u001b[0m\u001b[0;34m.\u001b[0m\u001b[0m_getitem_multilevel\u001b[0m\u001b[0;34m(\u001b[0m\u001b[0mkey\u001b[0m\u001b[0;34m)\u001b[0m\u001b[0;34m\u001b[0m\u001b[0;34m\u001b[0m\u001b[0m\n\u001b[0;32m-> 2927\u001b[0;31m             \u001b[0mindexer\u001b[0m \u001b[0;34m=\u001b[0m \u001b[0mself\u001b[0m\u001b[0;34m.\u001b[0m\u001b[0mcolumns\u001b[0m\u001b[0;34m.\u001b[0m\u001b[0mget_loc\u001b[0m\u001b[0;34m(\u001b[0m\u001b[0mkey\u001b[0m\u001b[0;34m)\u001b[0m\u001b[0;34m\u001b[0m\u001b[0;34m\u001b[0m\u001b[0m\n\u001b[0m\u001b[1;32m   2928\u001b[0m             \u001b[0;32mif\u001b[0m \u001b[0mis_integer\u001b[0m\u001b[0;34m(\u001b[0m\u001b[0mindexer\u001b[0m\u001b[0;34m)\u001b[0m\u001b[0;34m:\u001b[0m\u001b[0;34m\u001b[0m\u001b[0;34m\u001b[0m\u001b[0m\n\u001b[1;32m   2929\u001b[0m                 \u001b[0mindexer\u001b[0m \u001b[0;34m=\u001b[0m \u001b[0;34m[\u001b[0m\u001b[0mindexer\u001b[0m\u001b[0;34m]\u001b[0m\u001b[0;34m\u001b[0m\u001b[0;34m\u001b[0m\u001b[0m\n",
      "\u001b[0;32m~/anaconda3/lib/python3.7/site-packages/pandas/core/indexes/base.py\u001b[0m in \u001b[0;36mget_loc\u001b[0;34m(self, key, method, tolerance)\u001b[0m\n\u001b[1;32m   2657\u001b[0m                 \u001b[0;32mreturn\u001b[0m \u001b[0mself\u001b[0m\u001b[0;34m.\u001b[0m\u001b[0m_engine\u001b[0m\u001b[0;34m.\u001b[0m\u001b[0mget_loc\u001b[0m\u001b[0;34m(\u001b[0m\u001b[0mkey\u001b[0m\u001b[0;34m)\u001b[0m\u001b[0;34m\u001b[0m\u001b[0;34m\u001b[0m\u001b[0m\n\u001b[1;32m   2658\u001b[0m             \u001b[0;32mexcept\u001b[0m \u001b[0mKeyError\u001b[0m\u001b[0;34m:\u001b[0m\u001b[0;34m\u001b[0m\u001b[0;34m\u001b[0m\u001b[0m\n\u001b[0;32m-> 2659\u001b[0;31m                 \u001b[0;32mreturn\u001b[0m \u001b[0mself\u001b[0m\u001b[0;34m.\u001b[0m\u001b[0m_engine\u001b[0m\u001b[0;34m.\u001b[0m\u001b[0mget_loc\u001b[0m\u001b[0;34m(\u001b[0m\u001b[0mself\u001b[0m\u001b[0;34m.\u001b[0m\u001b[0m_maybe_cast_indexer\u001b[0m\u001b[0;34m(\u001b[0m\u001b[0mkey\u001b[0m\u001b[0;34m)\u001b[0m\u001b[0;34m)\u001b[0m\u001b[0;34m\u001b[0m\u001b[0;34m\u001b[0m\u001b[0m\n\u001b[0m\u001b[1;32m   2660\u001b[0m         \u001b[0mindexer\u001b[0m \u001b[0;34m=\u001b[0m \u001b[0mself\u001b[0m\u001b[0;34m.\u001b[0m\u001b[0mget_indexer\u001b[0m\u001b[0;34m(\u001b[0m\u001b[0;34m[\u001b[0m\u001b[0mkey\u001b[0m\u001b[0;34m]\u001b[0m\u001b[0;34m,\u001b[0m \u001b[0mmethod\u001b[0m\u001b[0;34m=\u001b[0m\u001b[0mmethod\u001b[0m\u001b[0;34m,\u001b[0m \u001b[0mtolerance\u001b[0m\u001b[0;34m=\u001b[0m\u001b[0mtolerance\u001b[0m\u001b[0;34m)\u001b[0m\u001b[0;34m\u001b[0m\u001b[0;34m\u001b[0m\u001b[0m\n\u001b[1;32m   2661\u001b[0m         \u001b[0;32mif\u001b[0m \u001b[0mindexer\u001b[0m\u001b[0;34m.\u001b[0m\u001b[0mndim\u001b[0m \u001b[0;34m>\u001b[0m \u001b[0;36m1\u001b[0m \u001b[0;32mor\u001b[0m \u001b[0mindexer\u001b[0m\u001b[0;34m.\u001b[0m\u001b[0msize\u001b[0m \u001b[0;34m>\u001b[0m \u001b[0;36m1\u001b[0m\u001b[0;34m:\u001b[0m\u001b[0;34m\u001b[0m\u001b[0;34m\u001b[0m\u001b[0m\n",
      "\u001b[0;32mpandas/_libs/index.pyx\u001b[0m in \u001b[0;36mpandas._libs.index.IndexEngine.get_loc\u001b[0;34m()\u001b[0m\n",
      "\u001b[0;32mpandas/_libs/index.pyx\u001b[0m in \u001b[0;36mpandas._libs.index.IndexEngine.get_loc\u001b[0;34m()\u001b[0m\n",
      "\u001b[0;32mpandas/_libs/hashtable_class_helper.pxi\u001b[0m in \u001b[0;36mpandas._libs.hashtable.PyObjectHashTable.get_item\u001b[0;34m()\u001b[0m\n",
      "\u001b[0;32mpandas/_libs/hashtable_class_helper.pxi\u001b[0m in \u001b[0;36mpandas._libs.hashtable.PyObjectHashTable.get_item\u001b[0;34m()\u001b[0m\n",
      "\u001b[0;31mKeyError\u001b[0m: ('PS pour', 'PS contre')"
     ]
    }
   ],
   "source": [
    "grenoble['PS pour', 'PS contre']\n",
    "grenoble.loc[Ensemble_RCGE]"
   ]
  },
  {
   "cell_type": "markdown",
   "metadata": {},
   "source": [
    "En revanche on peut sommer les valeurs."
   ]
  },
  {
   "cell_type": "code",
   "execution_count": 183,
   "metadata": {},
   "outputs": [
    {
     "data": {
      "text/plain": [
       "42.0"
      ]
     },
     "execution_count": 183,
     "metadata": {},
     "output_type": "execute_result"
    }
   ],
   "source": [
    "sum(grenoble[Ensemble_RCGE].iloc[0])"
   ]
  },
  {
   "cell_type": "markdown",
   "metadata": {},
   "source": [
    "On aimerait connaitre l'ensemble des partis présents. Ils ont forcément leur nom dans la colonne \"pour\"."
   ]
  },
  {
   "cell_type": "code",
   "execution_count": 125,
   "metadata": {},
   "outputs": [
    {
     "name": "stdout",
     "output_type": "stream",
     "text": [
      "['RCGE', 'PS', 'LR-UDI', 'FN']\n"
     ]
    }
   ],
   "source": [
    "Liste_partis = []\n",
    "for titre in grenoble.columns :\n",
    "    if \"pour\" in titre : \n",
    "        Liste_partis.append(titre)\n",
    "for i in range(len(Liste_partis)):\n",
    "    Liste_partis[i] = Liste_partis[i][:-5]\n",
    "print(Liste_partis)"
   ]
  },
  {
   "cell_type": "markdown",
   "metadata": {},
   "source": [
    "On peut utiliser cette liste pour généraliser le travail fait avec le RCGE."
   ]
  },
  {
   "cell_type": "code",
   "execution_count": 126,
   "metadata": {},
   "outputs": [
    {
     "name": "stdout",
     "output_type": "stream",
     "text": [
      "{'RCGE': 42, 'PS': 8, 'LR-UDI': 7, 'FN': 2}\n"
     ]
    }
   ],
   "source": [
    "def nombre_personnes(parti):\n",
    "    Ensemble = []\n",
    "    for titre in grenoble.columns : \n",
    "        if parti in titre : \n",
    "            Ensemble.append(titre)\n",
    "    return int(sum(grenoble[Ensemble].iloc[0]))\n",
    "\n",
    "\n",
    "Nomb_pers = {Parti : nombre_personnes(Parti) for Parti in Liste_partis}\n",
    "print(Nomb_pers)"
   ]
  },
  {
   "cell_type": "markdown",
   "metadata": {},
   "source": [
    "Il y a une écrasante majorité de 'RCGE', Rassemblement Citoyen de la Gauche et des Ecologistes. L'opposition a peu de chances de se faire entendre. Mais ce rassemblement est-il soudé ? Comme les manipulations que l'on a fait pour trouver Parti_RCGE seront réutilisées pour l'ensemble des partis, autant l'implémenter dans une fonction."
   ]
  },
  {
   "cell_type": "code",
   "execution_count": 127,
   "metadata": {},
   "outputs": [
    {
     "name": "stdout",
     "output_type": "stream",
     "text": [
      "['RCGE pour', 'RCGE contre', 'RCGE abst', 'RCGE non  vote', 'RCGE hors salle']\n"
     ]
    }
   ],
   "source": [
    "def cases(parti):\n",
    "    Ensemble = []\n",
    "    for titre in grenoble.columns : \n",
    "        if parti in titre : \n",
    "            Ensemble.append(titre)\n",
    "    return Ensemble\n",
    "\n",
    "print(cases('RCGE'))"
   ]
  },
  {
   "cell_type": "markdown",
   "metadata": {},
   "source": [
    "On peut créer les sous tableaux des votes des partis. Par exemple, pour le RCGE : "
   ]
  },
  {
   "cell_type": "code",
   "execution_count": 128,
   "metadata": {},
   "outputs": [
    {
     "data": {
      "text/html": [
       "<div>\n",
       "<style scoped>\n",
       "    .dataframe tbody tr th:only-of-type {\n",
       "        vertical-align: middle;\n",
       "    }\n",
       "\n",
       "    .dataframe tbody tr th {\n",
       "        vertical-align: top;\n",
       "    }\n",
       "\n",
       "    .dataframe thead th {\n",
       "        text-align: right;\n",
       "    }\n",
       "</style>\n",
       "<table border=\"1\" class=\"dataframe\">\n",
       "  <thead>\n",
       "    <tr style=\"text-align: right;\">\n",
       "      <th></th>\n",
       "      <th>RCGE pour</th>\n",
       "      <th>RCGE contre</th>\n",
       "      <th>RCGE abst</th>\n",
       "      <th>RCGE non  vote</th>\n",
       "      <th>RCGE hors salle</th>\n",
       "    </tr>\n",
       "  </thead>\n",
       "  <tbody>\n",
       "    <tr>\n",
       "      <th>count</th>\n",
       "      <td>36.000000</td>\n",
       "      <td>36.000000</td>\n",
       "      <td>36.0</td>\n",
       "      <td>36.000000</td>\n",
       "      <td>36.0</td>\n",
       "    </tr>\n",
       "    <tr>\n",
       "      <th>mean</th>\n",
       "      <td>40.305556</td>\n",
       "      <td>1.166667</td>\n",
       "      <td>0.0</td>\n",
       "      <td>0.527778</td>\n",
       "      <td>0.0</td>\n",
       "    </tr>\n",
       "    <tr>\n",
       "      <th>std</th>\n",
       "      <td>7.210387</td>\n",
       "      <td>7.000000</td>\n",
       "      <td>0.0</td>\n",
       "      <td>2.063092</td>\n",
       "      <td>0.0</td>\n",
       "    </tr>\n",
       "    <tr>\n",
       "      <th>min</th>\n",
       "      <td>0.000000</td>\n",
       "      <td>0.000000</td>\n",
       "      <td>0.0</td>\n",
       "      <td>0.000000</td>\n",
       "      <td>0.0</td>\n",
       "    </tr>\n",
       "    <tr>\n",
       "      <th>25%</th>\n",
       "      <td>42.000000</td>\n",
       "      <td>0.000000</td>\n",
       "      <td>0.0</td>\n",
       "      <td>0.000000</td>\n",
       "      <td>0.0</td>\n",
       "    </tr>\n",
       "    <tr>\n",
       "      <th>50%</th>\n",
       "      <td>42.000000</td>\n",
       "      <td>0.000000</td>\n",
       "      <td>0.0</td>\n",
       "      <td>0.000000</td>\n",
       "      <td>0.0</td>\n",
       "    </tr>\n",
       "    <tr>\n",
       "      <th>75%</th>\n",
       "      <td>42.000000</td>\n",
       "      <td>0.000000</td>\n",
       "      <td>0.0</td>\n",
       "      <td>0.000000</td>\n",
       "      <td>0.0</td>\n",
       "    </tr>\n",
       "    <tr>\n",
       "      <th>max</th>\n",
       "      <td>42.000000</td>\n",
       "      <td>42.000000</td>\n",
       "      <td>0.0</td>\n",
       "      <td>11.000000</td>\n",
       "      <td>0.0</td>\n",
       "    </tr>\n",
       "  </tbody>\n",
       "</table>\n",
       "</div>"
      ],
      "text/plain": [
       "       RCGE pour  RCGE contre  RCGE abst  RCGE non  vote  RCGE hors salle\n",
       "count  36.000000    36.000000       36.0       36.000000             36.0\n",
       "mean   40.305556     1.166667        0.0        0.527778              0.0\n",
       "std     7.210387     7.000000        0.0        2.063092              0.0\n",
       "min     0.000000     0.000000        0.0        0.000000              0.0\n",
       "25%    42.000000     0.000000        0.0        0.000000              0.0\n",
       "50%    42.000000     0.000000        0.0        0.000000              0.0\n",
       "75%    42.000000     0.000000        0.0        0.000000              0.0\n",
       "max    42.000000    42.000000        0.0       11.000000              0.0"
      ]
     },
     "execution_count": 128,
     "metadata": {},
     "output_type": "execute_result"
    }
   ],
   "source": [
    "RCGE = grenoble[cases('RCGE')]\n",
    "RCGE.describe()"
   ]
  },
  {
   "cell_type": "markdown",
   "metadata": {},
   "source": [
    " Le groupe ne s'est jamais abstenu, et a voté très rarement contre. Combien de fois exactement ? On va utiliser pour cela un booléen. RCGE['RCGE contre']!=0 donnera la colonne RCGE['RCGE_contre'] avec comme valeur True, lorsque la valeur sera différente de 0 et False dans le cas contraire. En conséquence, la ligne suivante affiche toutes les lignes ou le parti RCGE a voté contre."
   ]
  },
  {
   "cell_type": "code",
   "execution_count": 184,
   "metadata": {},
   "outputs": [
    {
     "data": {
      "text/html": [
       "<div>\n",
       "<style scoped>\n",
       "    .dataframe tbody tr th:only-of-type {\n",
       "        vertical-align: middle;\n",
       "    }\n",
       "\n",
       "    .dataframe tbody tr th {\n",
       "        vertical-align: top;\n",
       "    }\n",
       "\n",
       "    .dataframe thead th {\n",
       "        text-align: right;\n",
       "    }\n",
       "</style>\n",
       "<table border=\"1\" class=\"dataframe\">\n",
       "  <thead>\n",
       "    <tr style=\"text-align: right;\">\n",
       "      <th></th>\n",
       "      <th>RCGE pour</th>\n",
       "      <th>RCGE contre</th>\n",
       "      <th>RCGE abst</th>\n",
       "      <th>RCGE non  vote</th>\n",
       "      <th>RCGE hors salle</th>\n",
       "    </tr>\n",
       "  </thead>\n",
       "  <tbody>\n",
       "    <tr>\n",
       "      <th>4</th>\n",
       "      <td>0.0</td>\n",
       "      <td>42.0</td>\n",
       "      <td>0.0</td>\n",
       "      <td>0.0</td>\n",
       "      <td>0.0</td>\n",
       "    </tr>\n",
       "  </tbody>\n",
       "</table>\n",
       "</div>"
      ],
      "text/plain": [
       "   RCGE pour  RCGE contre  RCGE abst  RCGE non  vote  RCGE hors salle\n",
       "4        0.0         42.0        0.0             0.0              0.0"
      ]
     },
     "execution_count": 184,
     "metadata": {},
     "output_type": "execute_result"
    }
   ],
   "source": [
    "RCGE[RCGE['RCGE contre']!=0]"
   ]
  },
  {
   "cell_type": "markdown",
   "metadata": {},
   "source": [
    "Il n'y a eu qu'une seule fois où ils ont voté contre la proposition, et c'était le quatrième vote. On le localise grace à la fonction iloc."
   ]
  },
  {
   "cell_type": "code",
   "execution_count": 130,
   "metadata": {},
   "outputs": [
    {
     "data": {
      "text/plain": [
       "Mois                                                                 2016-02-29\n",
       "N°                                                                            0\n",
       "1° délib                                                                      0\n",
       "Lettre                                                                        0\n",
       "ss CODE                                                                    VOEU\n",
       "Libellé de la délibération    Voeu du groupe LR sur le jumelage de Grenoble ...\n",
       "Vote secret                                                                   0\n",
       "Nb am.                                                                        0\n",
       "Amande\\nMent                                                                  0\n",
       "Unanimité                                                                     0\n",
       "Solitude                                                                      0\n",
       "Votes divergents                                                              0\n",
       "Noms divergents                                                               0\n",
       "RCGE pour                                                                     0\n",
       "PS pour                                                                       5\n",
       "LR-UDI pour                                                                   7\n",
       "FN pour                                                                       2\n",
       "RCGE contre                                                                  42\n",
       "PS contre                                                                     0\n",
       "LR-UDI contre                                                                 0\n",
       "FN contre                                                                     0\n",
       "RCGE abst                                                                     0\n",
       "PS abst                                                                       0\n",
       "LR-UDI abst                                                                   0\n",
       "FN abst                                                                       0\n",
       "RCGE non  vote                                                                0\n",
       "PS non vote                                                                   3\n",
       "LR-UDI non vote                                                               0\n",
       "FN non vote                                                                   0\n",
       "RCGE hors salle                                                               0\n",
       "PS hors salle                                                                 0\n",
       "LR-UDI hors salle                                                             0\n",
       "FN hors salle                                                                 0\n",
       "Name: 4, dtype: object"
      ]
     },
     "execution_count": 130,
     "metadata": {},
     "output_type": "execute_result"
    }
   ],
   "source": [
    "grenoble.iloc[4]"
   ]
  },
  {
   "cell_type": "markdown",
   "metadata": {},
   "source": [
    "On sent un vote partisan. Cela est-il souvent le cas ?"
   ]
  },
  {
   "cell_type": "markdown",
   "metadata": {},
   "source": [
    "### b) Analyse des votes de l'opposition."
   ]
  },
  {
   "cell_type": "code",
   "execution_count": 140,
   "metadata": {},
   "outputs": [
    {
     "data": {
      "text/plain": [
       "Index(['Mois', 'N°', '1° délib', 'Lettre', 'ss CODE',\n",
       "       'Libellé de la délibération', 'Vote secret', 'Nb am.', 'Amande\\nMent',\n",
       "       'Unanimité', 'Solitude', 'Votes divergents', 'Noms divergents',\n",
       "       'RCGE pour', 'PS pour', 'LR-UDI pour', 'FN pour', 'RCGE contre',\n",
       "       'PS contre ', 'LR-UDI contre', 'FN contre', 'RCGE abst', 'PS abst ',\n",
       "       'LR-UDI abst', 'FN abst', 'RCGE non  vote', 'PS non vote',\n",
       "       'LR-UDI non vote', 'FN non vote', 'RCGE hors salle', 'PS hors salle',\n",
       "       'LR-UDI hors salle', 'FN hors salle'],\n",
       "      dtype='object')"
      ]
     },
     "execution_count": 140,
     "metadata": {},
     "output_type": "execute_result"
    }
   ],
   "source": [
    "grenoble.columns"
   ]
  },
  {
   "cell_type": "markdown",
   "metadata": {},
   "source": [
    "On voit que les colonnes sont mal ajustées, que parfois il y a un espace après le contre, que parfois non. Il vaut mieux tout lister par ordinateur, comme précédemment."
   ]
  },
  {
   "cell_type": "code",
   "execution_count": 141,
   "metadata": {},
   "outputs": [
    {
     "data": {
      "text/plain": [
       "['PS contre ', 'LR-UDI contre', 'FN contre']"
      ]
     },
     "execution_count": 141,
     "metadata": {},
     "output_type": "execute_result"
    }
   ],
   "source": [
    "Against = []\n",
    "for titre in grenoble.columns :\n",
    "    if 'contre' in titre and 'RCGE' not in titre : \n",
    "        Against.append(titre)\n",
    "Against"
   ]
  },
  {
   "cell_type": "code",
   "execution_count": 143,
   "metadata": {},
   "outputs": [
    {
     "data": {
      "text/html": [
       "<div>\n",
       "<style scoped>\n",
       "    .dataframe tbody tr th:only-of-type {\n",
       "        vertical-align: middle;\n",
       "    }\n",
       "\n",
       "    .dataframe tbody tr th {\n",
       "        vertical-align: top;\n",
       "    }\n",
       "\n",
       "    .dataframe thead th {\n",
       "        text-align: right;\n",
       "    }\n",
       "</style>\n",
       "<table border=\"1\" class=\"dataframe\">\n",
       "  <thead>\n",
       "    <tr style=\"text-align: right;\">\n",
       "      <th></th>\n",
       "      <th>PS contre</th>\n",
       "      <th>LR-UDI contre</th>\n",
       "      <th>FN contre</th>\n",
       "    </tr>\n",
       "  </thead>\n",
       "  <tbody>\n",
       "    <tr>\n",
       "      <th>count</th>\n",
       "      <td>36.000000</td>\n",
       "      <td>36.000000</td>\n",
       "      <td>36.000000</td>\n",
       "    </tr>\n",
       "    <tr>\n",
       "      <th>mean</th>\n",
       "      <td>0.444444</td>\n",
       "      <td>0.777778</td>\n",
       "      <td>0.055556</td>\n",
       "    </tr>\n",
       "    <tr>\n",
       "      <th>std</th>\n",
       "      <td>1.858485</td>\n",
       "      <td>2.231093</td>\n",
       "      <td>0.333333</td>\n",
       "    </tr>\n",
       "    <tr>\n",
       "      <th>min</th>\n",
       "      <td>0.000000</td>\n",
       "      <td>0.000000</td>\n",
       "      <td>0.000000</td>\n",
       "    </tr>\n",
       "    <tr>\n",
       "      <th>25%</th>\n",
       "      <td>0.000000</td>\n",
       "      <td>0.000000</td>\n",
       "      <td>0.000000</td>\n",
       "    </tr>\n",
       "    <tr>\n",
       "      <th>50%</th>\n",
       "      <td>0.000000</td>\n",
       "      <td>0.000000</td>\n",
       "      <td>0.000000</td>\n",
       "    </tr>\n",
       "    <tr>\n",
       "      <th>75%</th>\n",
       "      <td>0.000000</td>\n",
       "      <td>0.000000</td>\n",
       "      <td>0.000000</td>\n",
       "    </tr>\n",
       "    <tr>\n",
       "      <th>max</th>\n",
       "      <td>8.000000</td>\n",
       "      <td>7.000000</td>\n",
       "      <td>2.000000</td>\n",
       "    </tr>\n",
       "  </tbody>\n",
       "</table>\n",
       "</div>"
      ],
      "text/plain": [
       "       PS contre   LR-UDI contre  FN contre\n",
       "count   36.000000      36.000000  36.000000\n",
       "mean     0.444444       0.777778   0.055556\n",
       "std      1.858485       2.231093   0.333333\n",
       "min      0.000000       0.000000   0.000000\n",
       "25%      0.000000       0.000000   0.000000\n",
       "50%      0.000000       0.000000   0.000000\n",
       "75%      0.000000       0.000000   0.000000\n",
       "max      8.000000       7.000000   2.000000"
      ]
     },
     "execution_count": 143,
     "metadata": {},
     "output_type": "execute_result"
    }
   ],
   "source": [
    "grenoble[Against].describe()"
   ]
  },
  {
   "cell_type": "markdown",
   "metadata": {},
   "source": [
    "Les partis sont rarement contre. Sont-ils pour ?"
   ]
  },
  {
   "cell_type": "code",
   "execution_count": 144,
   "metadata": {},
   "outputs": [
    {
     "data": {
      "text/html": [
       "<div>\n",
       "<style scoped>\n",
       "    .dataframe tbody tr th:only-of-type {\n",
       "        vertical-align: middle;\n",
       "    }\n",
       "\n",
       "    .dataframe tbody tr th {\n",
       "        vertical-align: top;\n",
       "    }\n",
       "\n",
       "    .dataframe thead th {\n",
       "        text-align: right;\n",
       "    }\n",
       "</style>\n",
       "<table border=\"1\" class=\"dataframe\">\n",
       "  <thead>\n",
       "    <tr style=\"text-align: right;\">\n",
       "      <th></th>\n",
       "      <th>RCGE pour</th>\n",
       "      <th>PS pour</th>\n",
       "      <th>LR-UDI pour</th>\n",
       "      <th>FN pour</th>\n",
       "    </tr>\n",
       "  </thead>\n",
       "  <tbody>\n",
       "    <tr>\n",
       "      <th>count</th>\n",
       "      <td>36.000000</td>\n",
       "      <td>36.000000</td>\n",
       "      <td>36.000000</td>\n",
       "      <td>36.000000</td>\n",
       "    </tr>\n",
       "    <tr>\n",
       "      <th>mean</th>\n",
       "      <td>40.305556</td>\n",
       "      <td>6.555556</td>\n",
       "      <td>4.083333</td>\n",
       "      <td>1.166667</td>\n",
       "    </tr>\n",
       "    <tr>\n",
       "      <th>std</th>\n",
       "      <td>7.210387</td>\n",
       "      <td>3.018462</td>\n",
       "      <td>3.500000</td>\n",
       "      <td>1.000000</td>\n",
       "    </tr>\n",
       "    <tr>\n",
       "      <th>min</th>\n",
       "      <td>0.000000</td>\n",
       "      <td>0.000000</td>\n",
       "      <td>0.000000</td>\n",
       "      <td>0.000000</td>\n",
       "    </tr>\n",
       "    <tr>\n",
       "      <th>25%</th>\n",
       "      <td>42.000000</td>\n",
       "      <td>8.000000</td>\n",
       "      <td>0.000000</td>\n",
       "      <td>0.000000</td>\n",
       "    </tr>\n",
       "    <tr>\n",
       "      <th>50%</th>\n",
       "      <td>42.000000</td>\n",
       "      <td>8.000000</td>\n",
       "      <td>7.000000</td>\n",
       "      <td>2.000000</td>\n",
       "    </tr>\n",
       "    <tr>\n",
       "      <th>75%</th>\n",
       "      <td>42.000000</td>\n",
       "      <td>8.000000</td>\n",
       "      <td>7.000000</td>\n",
       "      <td>2.000000</td>\n",
       "    </tr>\n",
       "    <tr>\n",
       "      <th>max</th>\n",
       "      <td>42.000000</td>\n",
       "      <td>8.000000</td>\n",
       "      <td>7.000000</td>\n",
       "      <td>2.000000</td>\n",
       "    </tr>\n",
       "  </tbody>\n",
       "</table>\n",
       "</div>"
      ],
      "text/plain": [
       "       RCGE pour    PS pour  LR-UDI pour    FN pour\n",
       "count  36.000000  36.000000    36.000000  36.000000\n",
       "mean   40.305556   6.555556     4.083333   1.166667\n",
       "std     7.210387   3.018462     3.500000   1.000000\n",
       "min     0.000000   0.000000     0.000000   0.000000\n",
       "25%    42.000000   8.000000     0.000000   0.000000\n",
       "50%    42.000000   8.000000     7.000000   2.000000\n",
       "75%    42.000000   8.000000     7.000000   2.000000\n",
       "max    42.000000   8.000000     7.000000   2.000000"
      ]
     },
     "execution_count": 144,
     "metadata": {},
     "output_type": "execute_result"
    }
   ],
   "source": [
    "For = []\n",
    "for titre in grenoble.columns : \n",
    "    if 'pour' in titre : \n",
    "        For.append(titre)\n",
    "grenoble[For].describe()"
   ]
  },
  {
   "cell_type": "code",
   "execution_count": 166,
   "metadata": {},
   "outputs": [
    {
     "name": "stdout",
     "output_type": "stream",
     "text": [
      "Nombre de fois où le parti à voter pour : {'RCGE': 35, 'PS': 30, 'LR-UDI': 21, 'FN': 21}\n"
     ]
    }
   ],
   "source": [
    "Liste_partis = []\n",
    "for titre in grenoble.columns :\n",
    "    if \"pour\" in titre : \n",
    "        Liste_partis.append(titre)\n",
    "for i in range(len(Liste_partis)):\n",
    "    Liste_partis[i] = Liste_partis[i][:-5]\n",
    "\n",
    "len(grenoble[grenoble[For[0]] != 0])\n",
    "Partis_pour = {Liste_partis[i] : len(grenoble[grenoble[For[i]] != 0]) for i in range(4) }   \n",
    "print(\"Nombre de fois où le parti à voter pour :\",Partis_pour)"
   ]
  },
  {
   "cell_type": "markdown",
   "metadata": {},
   "source": [
    "C'est donc qu'il y a eu beaucoup d'abstention."
   ]
  },
  {
   "cell_type": "code",
   "execution_count": 187,
   "metadata": {},
   "outputs": [
    {
     "data": {
      "text/plain": [
       "RCGE pour            40.305556\n",
       "RCGE contre           1.166667\n",
       "RCGE abst             0.000000\n",
       "RCGE non  vote        0.527778\n",
       "RCGE hors salle       0.000000\n",
       "PS pour               6.555556\n",
       "PS contre             0.444444\n",
       "PS abst               0.638889\n",
       "PS non vote           0.361111\n",
       "PS hors salle         0.000000\n",
       "LR-UDI pour           4.083333\n",
       "LR-UDI contre         0.777778\n",
       "LR-UDI abst           0.583333\n",
       "LR-UDI non vote       1.555556\n",
       "LR-UDI hors salle     0.000000\n",
       "FN pour               1.166667\n",
       "FN contre             0.055556\n",
       "FN abst               0.555556\n",
       "FN non vote           0.222222\n",
       "FN hors salle         0.000000\n",
       "dtype: float64"
      ]
     },
     "execution_count": 187,
     "metadata": {},
     "output_type": "execute_result"
    }
   ],
   "source": [
    "Votes = []\n",
    "for parti in Liste_partis : \n",
    "    Votes.extend(cases(parti))\n",
    "grenoble[Votes].mean()"
   ]
  },
  {
   "cell_type": "markdown",
   "metadata": {},
   "source": [
    "L'opposition utilise donc surtout l'abstention. Ces chiffres ne sont pas la meilleure manière d'exprimer le problème (à réfléchir comment l'utiliser) mais donne quand même de bonnes indications."
   ]
  },
  {
   "cell_type": "code",
   "execution_count": null,
   "metadata": {},
   "outputs": [],
   "source": []
  }
 ],
 "metadata": {
  "kernelspec": {
   "display_name": "Python 3",
   "language": "python",
   "name": "python3"
  },
  "language_info": {
   "codemirror_mode": {
    "name": "ipython",
    "version": 3
   },
   "file_extension": ".py",
   "mimetype": "text/x-python",
   "name": "python",
   "nbconvert_exporter": "python",
   "pygments_lexer": "ipython3",
   "version": "3.7.3"
  }
 },
 "nbformat": 4,
 "nbformat_minor": 2
}
